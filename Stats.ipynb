{
 "cells": [
  {
   "cell_type": "markdown",
   "metadata": {},
   "source": [
    "# Probability and Statistics for Engineering and the Sciences\n",
    "\n",
    "I've taken courses in business statistics (bleh), probability (much better!), and stochastic processes (fascinating and difficult and fascinating), now I'm reading this book to to start off with stapling all of my knowledge together. Jupyter notebooks are ideal because they're laptop-on-my-lap-on-the-train compatible."
   ]
  },
  {
   "cell_type": "markdown",
   "metadata": {},
   "source": [
    "* A **trimmed mean** removes some lowest and highest percentile of the data (outlier correction). The median can be thought of as a competely trimmed mean.\n",
    "* Mean includes full weight of outliers, median takes zero stock. Sometimes you want a measure somewhere in between, which is when a trimmed mean is useful (more analytical than simply \"discard these five values as being too outlier-y).\n",
    "* **Box plot** bits:\n",
    " * **First IQR** and **third IQR** are lower-half and upper-half medians, respectively, these are the bottom and top of a box plot respectively. The distance between the two is **fourth spread**, $f_4$, and this is a statistic that is resistant to outliers.\n",
    " * Line down the middle is the median (not mode!).\n",
    " * Lines extend on either side to the smallest value still within $1.5 \\times f_4$  of the median.\n",
    " * **Outliers** are in the $\\pm [1.5 f_4, 3 f_4 ]$ range, **extreme outliers** are in the $\\geq 3 f_4$ range."
   ]
  },
  {
   "cell_type": "markdown",
   "metadata": {},
   "source": [
    "**Box plot in Plotly in Jupyter**"
   ]
  },
  {
   "cell_type": "code",
   "execution_count": 3,
   "metadata": {
    "collapsed": true
   },
   "outputs": [],
   "source": [
    "import json\n",
    "import plotly.tools as tls\n",
    "\n",
    "# Set my plotly credentials.\n",
    "data = json.load(open('plotly_credentials.json'))['credentials']\n",
    "tls.set_credentials_file(username=data['username'], api_key=data['key'])"
   ]
  },
  {
   "cell_type": "code",
   "execution_count": 4,
   "metadata": {
    "collapsed": false,
    "scrolled": false
   },
   "outputs": [
    {
     "name": "stdout",
     "output_type": "stream",
     "text": [
      "High five! You successfuly sent some data to your account on plotly. View your plot in your browser at https://plot.ly/~ResidentMario/0 or inside your plot.ly account where it is named 'pandas-box-plot'\n"
     ]
    },
    {
     "data": {
      "text/html": [
       "<iframe id=\"igraph\" scrolling=\"no\" style=\"border:none;\"seamless=\"seamless\" src=\"https://plot.ly/~ResidentMario/0.embed\" height=\"525px\" width=\"100%\"></iframe>"
      ],
      "text/plain": [
       "<plotly.tools.PlotlyDisplay object>"
      ]
     },
     "execution_count": 4,
     "metadata": {},
     "output_type": "execute_result"
    }
   ],
   "source": [
    "import string\n",
    "import pandas as pd\n",
    "import numpy as np\n",
    "import plotly.plotly as py\n",
    "import plotly.graph_objs as go\n",
    "\n",
    "# Populate a pandas DataFrame with randomized letter values.\n",
    "# It'd be more sensible to get letter frequency -grams but /\\o/\\ this is an example direct from the source.\n",
    "N = 100\n",
    "y_vals = {}\n",
    "for letter in list(string.ascii_uppercase):\n",
    "    # np.random.randn() returns N random standard normal samples. Defaults to five.\n",
    "    # Note, numpy doesn't provide sigma and mu parameters, you have to do the normal transform yourself. Cute!\n",
    "    y_vals[letter] = np.random.randn(N)+(3*np.random.randn())\n",
    "\n",
    "df = pd.DataFrame(y_vals)\n",
    "# df.head returns the first five rows of the DataFrame.\n",
    "df.head()\n",
    "\n",
    "data = []\n",
    "\n",
    "# I prefer to use iteritems, but to each his own.\n",
    "for col in df.columns:\n",
    "    data.append(  go.Box( y=df[col], name=col, showlegend=False ) )\n",
    "\n",
    "data.append( go.Scatter( x = df.columns, y = df.mean(), mode='lines', name='mean' ) )\n",
    "\n",
    "# This both creates and displays the graph and sends it to and saves it on their server (no non-public data!).\n",
    "py.iplot(data, filename='pandas-box-plot')\n",
    "\n",
    "# cf. https://plot.ly/python/histograms-and-box-plots-tutorial/"
   ]
  },
  {
   "cell_type": "markdown",
   "metadata": {},
   "source": [
    "* **Pairwise independence** is not full independence if you can find counterexamples in larger sets.\n",
    "* A **Bernoulli random variable** (or Bernoulli trial) takes on a value of 0 or 1, e.g. success or failure.\n",
    "* A **family of probability distributions** are organized around a **parameter**.\n",
    "* **Discrete CDF**: $F(X) = P(X \\leq x) = \\sum_{y: y \\leq x} p(y)$.\n",
    "* Since CDFs are right-continuous, technically $P(X \\in [a, b]) = F(b) - F(a-)$, where $a-$ is the limit inferior of $a$.\n",
    "* **Discrete expectation**: $E(X) = \\mu_x = \\sum_{x \\in \\Omega} x \\cdot p(x)$.\n",
    "* **Drunk statistician's rule**: $E[h(x)] = \\sum_{x \\in \\Omega} h(x) \\cdot p(x)$.\n",
    "* $Var(X) = \\sum_{x \\in \\Omega}(x-\\mu)^2 \\cdot p(x) = E[(X-\\mu)^2] = E(X^2) - [E(X)]^2$\n",
    "* $s$ and $s^2$ correspond with $\\sigma$ and $\\sigma^2$\n",
    "* "
   ]
  },
  {
   "cell_type": "code",
   "execution_count": null,
   "metadata": {
    "collapsed": true
   },
   "outputs": [],
   "source": []
  }
 ],
 "metadata": {
  "kernelspec": {
   "display_name": "Python 3",
   "language": "python",
   "name": "python3"
  },
  "language_info": {
   "codemirror_mode": {
    "name": "ipython",
    "version": 3
   },
   "file_extension": ".py",
   "mimetype": "text/x-python",
   "name": "python",
   "nbconvert_exporter": "python",
   "pygments_lexer": "ipython3",
   "version": "3.5.1"
  }
 },
 "nbformat": 4,
 "nbformat_minor": 0
}

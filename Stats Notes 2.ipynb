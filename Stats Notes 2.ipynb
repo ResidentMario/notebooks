{
 "cells": [
  {
   "cell_type": "markdown",
   "metadata": {},
   "source": [
    "* The previous notebook began to run a little more slowly than desirable, so off we just into another one.\n",
    "* Build a data modeling paradigm for practice."
   ]
  },
  {
   "cell_type": "code",
   "execution_count": 15,
   "metadata": {
    "collapsed": true
   },
   "outputs": [],
   "source": [
    "from pandas import Series\n",
    "import pandas as pd\n",
    "import numpy as np\n",
    "import scipy.stats\n",
    "\n",
    "def beta_1_hat(dat):\n",
    "    x_m = x_mean(dat)\n",
    "    y_m = y_mean(dat)\n",
    "    beta_1_hat_num = sum([(x - x_m)*(y - y_m) for (x,y) in dat.iteritems()])\n",
    "    beta_1_hat_denom = sum([(d[0] - x_m)**2 for d in dat.iteritems()])\n",
    "    beta_1_hat = beta_1_hat_num / beta_1_hat_denom\n",
    "    return beta_1_hat\n",
    "\n",
    "def beta_0_hat(dat):\n",
    "    beta_0_hat = y_mean(dat) - beta_1_hat(dat)*x_mean(dat)\n",
    "    return beta_0_hat\n",
    "\n",
    "def n(dat):\n",
    "    return len(dat)\n",
    "\n",
    "def x_vals(dat):\n",
    "    return np.array(dat.index)\n",
    "\n",
    "def x_mean(dat):\n",
    "    return np.mean(x_vals(dat))\n",
    "\n",
    "def y_mean(dat):\n",
    "    return dat.mean()\n",
    "\n",
    "def sse(dat):\n",
    "    return sum([(d[1] - (beta_0_hat + beta_1_hat*d[0]))**2 for d in dat.iteritems()])\n",
    "\n",
    "def sst(dat):\n",
    "    return sum([(d[1] - y_mean)**2 for d in dat.iteritems()])\n",
    "\n",
    "def r_squared(dat):\n",
    "    return 1 - sse(dat)/sst(dat)\n",
    "\n",
    "def variance(dat)\n",
    "\n",
    "variance_estimator = sse/(n-2)\n",
    "standard_deviation_estimator = math.sqrt(variance_estimator)\n",
    "beta_1_hat_standard_deviation_estimator = standard_deviation_estimator/math.sqrt(sum(x_vals**2) - (sum(x_vals)**2)/n)\n",
    "beta_1_hat_standard_deviation_estimator"
   ]
  },
  {
   "cell_type": "code",
   "execution_count": 16,
   "metadata": {
    "collapsed": true
   },
   "outputs": [],
   "source": [
    "dat = Series({16.1:4.41,\n",
    "              31.5:6.81,\n",
    "              21.5:5.26,\n",
    "              22.4:5.99,\n",
    "              20.5:5.92,\n",
    "              28.4:6.14, \n",
    "              30.3:6.84, \n",
    "              25.6:5.87, \n",
    "              32.7:7.03, \n",
    "              29.2:6.89, \n",
    "              34.7:7.87}\n",
    "            )"
   ]
  },
  {
   "cell_type": "code",
   "execution_count": 17,
   "metadata": {
    "collapsed": false
   },
   "outputs": [
    {
     "data": {
      "text/plain": [
       "(6.275454545454545,\n",
       " 26.627272727272725,\n",
       " 2.2249345952600814,\n",
       " 0.15211921970685938)"
      ]
     },
     "execution_count": 17,
     "metadata": {},
     "output_type": "execute_result"
    }
   ],
   "source": [
    "y_mean(dat), x_mean(dat), beta_0_hat(dat), beta_1_hat(dat)"
   ]
  },
  {
   "cell_type": "code",
   "execution_count": null,
   "metadata": {
    "collapsed": true
   },
   "outputs": [],
   "source": []
  }
 ],
 "metadata": {
  "kernelspec": {
   "display_name": "Python 3",
   "language": "python",
   "name": "python3"
  },
  "language_info": {
   "codemirror_mode": {
    "name": "ipython",
    "version": 3
   },
   "file_extension": ".py",
   "mimetype": "text/x-python",
   "name": "python",
   "nbconvert_exporter": "python",
   "pygments_lexer": "ipython3",
   "version": "3.5.1"
  }
 },
 "nbformat": 4,
 "nbformat_minor": 0
}

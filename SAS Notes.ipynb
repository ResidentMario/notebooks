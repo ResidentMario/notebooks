{
 "cells": [
  {
   "cell_type": "markdown",
   "metadata": {},
   "source": [
    "**Filetree**\n",
    "\n",
    "* `Desktop`\n",
    " * `sas`\n",
    "  * `Libraries`\n",
    "   * `[projectname]`\n",
    "     * Individual library data files associated with that particular project. When creating libraries SAS overwrites the name of the folder with a user-defined \"SAS name\". This \"SAS name\" and the actual folder need not match. Library files furthermore follow a short naming convention, e.g. `BHOUSING.dat`.\n",
    "  * `Projects`\n",
    "   * `[projectname]`\n",
    "     * The project definition files that SAS uses."
   ]
  },
  {
   "cell_type": "markdown",
   "metadata": {},
   "source": [
    "**Importing data sources**\n",
    "* Data sources are sorted into libraries. You place the data sources into the library manually.\n",
    "* To view resources use `View > Explorer`.\n",
    "* To use a library file as a data source in your current project you import it via `File > New > Data Source`.\n",
    " * In the wizard, step five is setting up the measurement levels (interval/ratio, nominal, unary, binary, ordinal) and the roles (input, target, key, rejected). Use `Explore` here to examine the variables and pick out the correct settings for them. You can always iteratively go back once you're in the project to adjust these settings anyway."
   ]
  },
  {
   "cell_type": "markdown",
   "metadata": {},
   "source": [
    "**Diagrams and exploratory nodes**\n",
    "\n",
    "* Analysis is done via diagrams. You can have multiple diagrams (different ensembles etc.). Each of these diagrams has a unique name.\n",
    "* Analysis tools are provided via linked nodes. Drag the data source onto the canvas and then attach nodes to do stuff to it (or them).\n",
    "* Right-click on the data table to edit the variable assignments.\n",
    "* What do the Property/Value pairs for the data table mean?\n",
    "* Hit up the Graph Explore to graph variables and size them up. `View > Plot` to see actually useful things.\n",
    "* Kurtosis measures tail mass. For comparative purpose, the kurtosis of the normal distribution is 3. Higher means *platykurtic*, less means *leptokurtic*.\n",
    "* Skewness for unimodal distributions gives you which tail is fatter, but it breaks down in case of both long/thin and fat/short tails. So only try to interpret it when you're pretty sure of the distribution.\n",
    "* You can plot a lot of this stuff at once to do a general check using the multiplotter node.\n",
    "* The higher the slope in the scatter regression, the better---this means that a small change in the independent variable causes a large change in our dependent/target variable. Of course `r^2` is paramout!"
   ]
  },
  {
   "cell_type": "markdown",
   "metadata": {},
   "source": [
    "**Transforms**\n",
    "* Transforms are via the Transform Variable node. All the meta is in the side settings in this case, in the Formulas part."
   ]
  }
 ],
 "metadata": {
  "kernelspec": {
   "display_name": "Python 3",
   "language": "python",
   "name": "python3"
  },
  "language_info": {
   "codemirror_mode": {
    "name": "ipython",
    "version": 3
   },
   "file_extension": ".py",
   "mimetype": "text/x-python",
   "name": "python",
   "nbconvert_exporter": "python",
   "pygments_lexer": "ipython3",
   "version": "3.4.4"
  }
 },
 "nbformat": 4,
 "nbformat_minor": 0
}

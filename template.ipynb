{
 "cells": [
  {
   "cell_type": "markdown",
   "metadata": {},
   "source": [
    "This notebook is a template for creating easily reproducible `d3` visualizations in a `Jupyter` notebook. The second-to-last block contains output, the last block contains a stringified version of that output suitable for outside use.\n",
    "\n",
    "Based on [here](https://github.com/stitchfix/d3-jupyter-tutorial/blob/master/bar_chart_with_update.ipynb) and my own frustrations.\n",
    "\n",
    "**Note**: Unfortunately though this is an elegant idea it does not appear to actually work because the internal [element](https://ipython.org/ipython-doc/2/api/generated/IPython.core.display.html#IPython.core.display.Javascript) marker created for cell modification purposes is not properly exposed to `JavaScript` when it embedded within `HTML`, so there is no way to generate a selector that `d3` can latch on to. It doesn't work \"just as is\" because"
   ]
  },
  {
   "cell_type": "code",
   "execution_count": 1,
   "metadata": {
    "collapsed": false
   },
   "outputs": [],
   "source": [
    "from IPython.core.display import display, HTML\n",
    "from string import Template\n",
    "\n",
    "HTML('<script src=\"lib/d3/d3.js\"></script>')\n",
    "\n",
    "html_template = Template('''\n",
    "<!DOCTYPE html>\n",
    "<meta charset=\"utf-8\">\n",
    "\n",
    "<script src=\"//d3js.org/d3.v3.js\"></script>\n",
    "<body>\n",
    "\n",
    "<style>$css</style>\n",
    "<script>$js</script>\n",
    "''')"
   ]
  },
  {
   "cell_type": "code",
   "execution_count": 2,
   "metadata": {
    "collapsed": true
   },
   "outputs": [],
   "source": [
    "css =   '''\n",
    "            \n",
    "/* CSS goes here! */\n",
    "\n",
    "'''"
   ]
  },
  {
   "cell_type": "code",
   "execution_count": 3,
   "metadata": {
    "collapsed": true
   },
   "outputs": [],
   "source": [
    "js  =   '''\n",
    "\n",
    "/* JavaScript goes here! */\n",
    "\n",
    "'''"
   ]
  },
  {
   "cell_type": "code",
   "execution_count": 4,
   "metadata": {
    "collapsed": false
   },
   "outputs": [
    {
     "data": {
      "text/html": [
       "\n",
       "<!DOCTYPE html>\n",
       "<meta charset=\"utf-8\">\n",
       "\n",
       "<script src=\"//d3js.org/d3.v3.js\"></script>\n",
       "<body>\n",
       "\n",
       "<style>\n",
       "            \n",
       "/* CSS goes here! */\n",
       "\n",
       "</style>\n",
       "<script>\n",
       "\n",
       "/* JavaScript goes here! */\n",
       "\n",
       "d3.select(\"body\").append(\"div\").attr(\"width\", 500).attr(\"height\", 500)\n",
       "</script>\n"
      ],
      "text/plain": [
       "<IPython.core.display.HTML object>"
      ]
     },
     "execution_count": 4,
     "metadata": {},
     "output_type": "execute_result"
    }
   ],
   "source": [
    "HTML(html_template.substitute({'css': css, 'js': js}))"
   ]
  },
  {
   "cell_type": "code",
   "execution_count": 5,
   "metadata": {
    "collapsed": false
   },
   "outputs": [
    {
     "name": "stdout",
     "output_type": "stream",
     "text": [
      "\n",
      "<!DOCTYPE html>\n",
      "<meta charset=\"utf-8\">\n",
      "\n",
      "<script src=\"//d3js.org/d3.v3.js\"></script>\n",
      "<body>\n",
      "\n",
      "<style>\n",
      "            \n",
      "/* CSS goes here! */\n",
      "\n",
      "</style>\n",
      "<script>\n",
      "\n",
      "/* JavaScript goes here! */\n",
      "\n",
      "d3.select(\"body\").append(\"div\").attr(\"width\", 500).attr(\"height\", 500)\n",
      "</script>\n",
      "\n"
     ]
    }
   ],
   "source": [
    "print(HTML(html_template.substitute({'css': css, 'js': js})).data)"
   ]
  }
 ],
 "metadata": {
  "kernelspec": {
   "display_name": "Python 3",
   "language": "python",
   "name": "python3"
  },
  "language_info": {
   "codemirror_mode": {
    "name": "ipython",
    "version": 3
   },
   "file_extension": ".py",
   "mimetype": "text/x-python",
   "name": "python",
   "nbconvert_exporter": "python",
   "pygments_lexer": "ipython3",
   "version": "3.5.1"
  }
 },
 "nbformat": 4,
 "nbformat_minor": 0
}

{
 "cells": [
  {
   "cell_type": "markdown",
   "metadata": {},
   "source": [
    "# D3 in Jupyter\n",
    "\n",
    "This notebook is a template for generating D3 visualizations in a Jupyter notebook. Jupyter notebooks are the best visualization format and D3 is the best visualization grammer: [por qué no los dos](https://www.youtube.com/watch?v=vqgSO8_cRio)? A quick adaptation of [this](https://github.com/cmoscardi/embedded_d3_example/blob/master/Embedded_D3.ipynb) (discovery not my own, see [here](http://blog.thedataincubator.com/2015/08/embedding-d3-in-an-ipython-notebook/))."
   ]
  },
  {
   "cell_type": "markdown",
   "metadata": {},
   "source": [
    "## Python"
   ]
  },
  {
   "cell_type": "code",
   "execution_count": 1,
   "metadata": {
    "collapsed": false,
    "scrolled": false
   },
   "outputs": [
    {
     "data": {
      "application/javascript": [
       "\n",
       "           window.dataset={};\n",
       "           "
      ],
      "text/plain": [
       "<IPython.core.display.Javascript object>"
      ]
     },
     "execution_count": 1,
     "metadata": {},
     "output_type": "execute_result"
    }
   ],
   "source": [
    "from IPython.display import Javascript\n",
    "from pandas import DataFrame\n",
    "\n",
    "frame = DataFrame()\n",
    "# Manipulate your data here!\n",
    "\n",
    "Javascript(\"\"\"\n",
    "           window.dataset={};\n",
    "           \"\"\".format(frame.to_json()))"
   ]
  },
  {
   "cell_type": "markdown",
   "metadata": {},
   "source": [
    "## JavaScript"
   ]
  },
  {
   "cell_type": "code",
   "execution_count": 2,
   "metadata": {
    "collapsed": false
   },
   "outputs": [
    {
     "data": {
      "application/javascript": [
       "\n",
       "/*\n",
       " * As it turns out, pandas returns a dictionary with \n",
       " * the top-level keys as the column headers, and values\n",
       " * as the list of values under that column.\n",
       " * I'd recommend looking yourself.\n",
       " * This function, in JS, converts to what D3 wants.\n",
       " * Of course we could also easily do this on the python side.\n",
       " */\n",
       "function convertPlotData(data){\n",
       "  var convertedData = [];\n",
       "  //pandas gives each column the same number of\n",
       "  //objects, arbitrarily choose one to iterate over\n",
       "  for(var i in data[Object.keys(data)[0]]){\n",
       "    var convertedDatum = {};\n",
       "    for(var key in data){\n",
       "      convertedDatum[key] = data[key][i];\n",
       "    }\n",
       "    convertedData.push(convertedDatum);\n",
       "  }\n",
       "  return convertedData;\n",
       "}\n",
       "\n",
       "window.convertPlotData = convertPlotData;\n",
       "\n",
       "require.config({\n",
       "    paths: {\n",
       "        d3: '//cdnjs.cloudflare.com/ajax/libs/d3/3.4.8/d3'\n",
       "    }\n",
       "});"
      ],
      "text/plain": [
       "<IPython.core.display.Javascript object>"
      ]
     },
     "metadata": {},
     "output_type": "display_data"
    }
   ],
   "source": [
    "%%javascript\n",
    "\n",
    "/*\n",
    " * As it turns out, pandas returns a dictionary with \n",
    " * the top-level keys as the column headers, and values\n",
    " * as the list of values under that column.\n",
    " * I'd recommend looking yourself.\n",
    " * This function, in JS, converts to what D3 wants.\n",
    " * Of course we could also easily do this on the python side.\n",
    " */\n",
    "function convertPlotData(data){\n",
    "  var convertedData = [];\n",
    "  //pandas gives each column the same number of\n",
    "  //objects, arbitrarily choose one to iterate over\n",
    "  for(var i in data[Object.keys(data)[0]]){\n",
    "    var convertedDatum = {};\n",
    "    for(var key in data){\n",
    "      convertedDatum[key] = data[key][i];\n",
    "    }\n",
    "    convertedData.push(convertedDatum);\n",
    "  }\n",
    "  return convertedData;\n",
    "}\n",
    "\n",
    "window.convertPlotData = convertPlotData;\n",
    "\n",
    "require.config({\n",
    "    paths: {\n",
    "        d3: '//cdnjs.cloudflare.com/ajax/libs/d3/3.4.8/d3'\n",
    "    }\n",
    "});"
   ]
  },
  {
   "cell_type": "code",
   "execution_count": 3,
   "metadata": {
    "collapsed": false
   },
   "outputs": [
    {
     "data": {
      "application/javascript": [
       "require(['d3'], function(d3){\n",
       "    //a weird idempotency thing\n",
       "    $(\"#chart\").remove();\n",
       "    //create canvas\n",
       "    element.append(\"<div id='chart'></div>\");\n",
       "    var svg = d3.select(\"#chart\").append(\"svg\")\n",
       "    //define your graph here!\n",
       "\n",
       "});"
      ],
      "text/plain": [
       "<IPython.core.display.Javascript object>"
      ]
     },
     "metadata": {},
     "output_type": "display_data"
    }
   ],
   "source": [
    "%%javascript\n",
    "require(['d3'], function(d3){\n",
    "    //a weird idempotency thing\n",
    "    $(\"#chart\").remove();\n",
    "    //create canvas\n",
    "    element.append(\"<div id='chart'></div>\");\n",
    "    var svg = d3.select(\"#chart\").append(\"svg\")\n",
    "    //define your graph here!\n",
    "\n",
    "});"
   ]
  }
 ],
 "metadata": {
  "kernelspec": {
   "display_name": "Python 3",
   "language": "python",
   "name": "python3"
  },
  "language_info": {
   "codemirror_mode": {
    "name": "ipython",
    "version": 3
   },
   "file_extension": ".py",
   "mimetype": "text/x-python",
   "name": "python",
   "nbconvert_exporter": "python",
   "pygments_lexer": "ipython3",
   "version": "3.5.1"
  }
 },
 "nbformat": 4,
 "nbformat_minor": 0
}

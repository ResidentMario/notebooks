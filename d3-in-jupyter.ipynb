{
 "cells": [
  {
   "cell_type": "markdown",
   "metadata": {},
   "source": [
    "# D3 in Jupyter\n",
    "\n",
    "This notebook is a template for working with both Pandas DataFrames and D3 visualizations in a single Jupyter notebook. Jupyter notebooks are the best visualization format and D3 is the best visualization grammer: [por qué no los dos](https://www.youtube.com/watch?v=vqgSO8_cRio)? An iterative adaptation of [this](https://github.com/cmoscardi/embedded_d3_example/blob/master/Embedded_D3.ipynb).\n",
    "\n",
    "Technical notes: first, be careful with d3 selectors: even though these seem to be constrained to cells they can actually catch everything in the notebook. Second, if the canvas is left alive between cell runtimes it will stick around and start to trip over its own copies, so the chart needs to be explicitly destroyed and recreated between runtimes, as below."
   ]
  },
  {
   "cell_type": "markdown",
   "metadata": {},
   "source": [
    "## Python"
   ]
  },
  {
   "cell_type": "code",
   "execution_count": 3,
   "metadata": {
    "collapsed": false,
    "scrolled": false
   },
   "outputs": [],
   "source": [
    "from pandas import DataFrame\n",
    "\n",
    "# The base: handle imports, construct a pandas DataFrame and do some operations on it.\n",
    "\n",
    "frame = DataFrame()\n",
    "# ..."
   ]
  },
  {
   "cell_type": "code",
   "execution_count": 4,
   "metadata": {
    "collapsed": false,
    "scrolled": true
   },
   "outputs": [
    {
     "data": {
      "application/javascript": [
       "window.dataset={};"
      ],
      "text/plain": [
       "<IPython.core.display.Javascript object>"
      ]
     },
     "execution_count": 4,
     "metadata": {},
     "output_type": "execute_result"
    }
   ],
   "source": [
    "from IPython.display import Javascript\n",
    "\n",
    "# The glue: JSON-ify and pass the datasets and windows that you need to JavaScript.\n",
    "# d3 expects input that JavaScript can actually read, luckily pandas provides various useful working JSON outputs:\n",
    "# cf. http://pandas.pydata.org/pandas-docs/version/0.17.1/generated/pandas.DataFrame.to_json.html\n",
    "\n",
    "Javascript(\"\"\"window.dataset={};\"\"\".format(frame.to_json(orient='values')))\n",
    "# ... you can pass multiple "
   ]
  },
  {
   "cell_type": "markdown",
   "metadata": {},
   "source": [
    "## CSS"
   ]
  },
  {
   "cell_type": "code",
   "execution_count": 5,
   "metadata": {
    "collapsed": false
   },
   "outputs": [
    {
     "data": {
      "text/html": [
       "\n",
       "<style>\n",
       "# Define your styles here! This separation keeps larger d3 visualizations tidier.\n",
       "</stype>"
      ],
      "text/plain": [
       "<IPython.core.display.HTML object>"
      ]
     },
     "metadata": {},
     "output_type": "display_data"
    }
   ],
   "source": [
    "%%html\n",
    "\n",
    "<style>\n",
    "# Define your styles here! This separation keeps larger d3 visualizations tidier.\n",
    "</stype>"
   ]
  },
  {
   "cell_type": "markdown",
   "metadata": {},
   "source": [
    "## JavaScript"
   ]
  },
  {
   "cell_type": "code",
   "execution_count": 2,
   "metadata": {
    "collapsed": false
   },
   "outputs": [
    {
     "data": {
      "application/javascript": [
       "\n",
       "/*\n",
       " * As it turns out, pandas returns a dictionary with \n",
       " * the top-level keys as the column headers, and values\n",
       " * as the list of values under that column.\n",
       " * I'd recommend looking yourself.\n",
       " * This function, in JS, converts to what D3 wants.\n",
       " * Of course we could also easily do this on the python side.\n",
       " */\n",
       "function convertPlotData(data){\n",
       "  var convertedData = [];\n",
       "  //pandas gives each column the same number of\n",
       "  //objects, arbitrarily choose one to iterate over\n",
       "  for(var i in data[Object.keys(data)[0]]){\n",
       "    var convertedDatum = {};\n",
       "    for(var key in data){\n",
       "      convertedDatum[key] = data[key][i];\n",
       "    }\n",
       "    convertedData.push(convertedDatum);\n",
       "  }\n",
       "  return convertedData;\n",
       "}\n",
       "\n",
       "window.convertPlotData = convertPlotData;\n",
       "\n",
       "require.config({\n",
       "    paths: {\n",
       "        d3: '//cdnjs.cloudflare.com/ajax/libs/d3/3.4.8/d3'\n",
       "    }\n",
       "});"
      ],
      "text/plain": [
       "<IPython.core.display.Javascript object>"
      ]
     },
     "metadata": {},
     "output_type": "display_data"
    }
   ],
   "source": [
    "%%javascript\n",
    "\n",
    "// Use require.js (already installed) to import and enable d3.js.\n",
    "require.config({\n",
    "    paths: {\n",
    "        d3: '//cdnjs.cloudflare.com/ajax/libs/d3/3.4.8/d3'\n",
    "    }\n",
    "});"
   ]
  },
  {
   "cell_type": "code",
   "execution_count": 6,
   "metadata": {
    "collapsed": false
   },
   "outputs": [
    {
     "data": {
      "application/javascript": [
       "\n",
       "require(['d3'], function(d3){\n",
       "    /*\n",
       "        Jupyter notebooks save their state between runtimes\n",
       "        so the chart needs to be explicitly destroyed and\n",
       "        recreated every time the code is run.\n",
       "    */    \n",
       "    $(\"#chart\").remove();\n",
       "    element.append(\"<div id='chart'></div>\");\n",
       "\n",
       "    // And finally, our d3 visualization code goes here!\n",
       "    // ...\n",
       "});"
      ],
      "text/plain": [
       "<IPython.core.display.Javascript object>"
      ]
     },
     "metadata": {},
     "output_type": "display_data"
    }
   ],
   "source": [
    "%%javascript\n",
    "\n",
    "require(['d3'], function(d3){\n",
    "    /*\n",
    "        Jupyter notebooks save their state between runtimes\n",
    "        so the chart needs to be explicitly destroyed and\n",
    "        recreated every time the code is run.\n",
    "    */    \n",
    "    $(\"#chart\").remove();\n",
    "    element.append(\"<div id='chart'></div>\");\n",
    "\n",
    "    // And finally, our d3 visualization code goes here!\n",
    "    // ...\n",
    "});"
   ]
  }
 ],
 "metadata": {
  "kernelspec": {
   "display_name": "Python 3",
   "language": "python",
   "name": "python3"
  },
  "language_info": {
   "codemirror_mode": {
    "name": "ipython",
    "version": 3
   },
   "file_extension": ".py",
   "mimetype": "text/x-python",
   "name": "python",
   "nbconvert_exporter": "python",
   "pygments_lexer": "ipython3",
   "version": "3.5.1"
  }
 },
 "nbformat": 4,
 "nbformat_minor": 0
}

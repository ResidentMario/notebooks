{
 "cells": [
  {
   "cell_type": "markdown",
   "metadata": {},
   "source": [
    "1. ```\n",
    "SELECT registr FROM van WHERE cabin = \"y\"```\n",
    "2. ```\n",
    "SELECT DISTINCT (firstname, lastname)\n",
    "FROM (dispatch INNER JOIN van ON dispatch.driverid = drive.ssn)\n",
    "WHERE van.cabin = \"y\";\n",
    "```\n",
    "3. ```\n",
    "SELECT DISTINCT (firstname, lastname)\n",
    "FROM (dispatch INNER JOIN driver ON dispatch.driverid = drive.ssn)\n",
    "AS a\n",
    "INNER JOIN van ON a.vehicle = van.registr\n",
    "AS b\n",
    "INNER JOIN plan on b.depcode = plan.depcode\n",
    "AS c\n",
    "INNER JOIN line ON c.nline = line.linenum\n",
    "WHERE cabin = \"y\" AND distance > 15;\n",
    "```\n",
    "4. ```\n",
    "SELECT CAST(GETDATE() AS DATE) as currentdate;\n",
    "SELECT DISTINCT registr\n",
    "FROM (van INNER JOIN dispatch ON van.regist = dispatch.vehicle)\n",
    "AS a\n",
    "INNER JOIN plan ON a.depcode = plan.depcode\n",
    "WHERE depart = currentdate AND soldseats = seats;\n",
    "```\n",
    "\n",
    "5. ```\n",
    "Of those vans or of those routes?\n",
    "```\n",
    "\n",
    "6. ```\n",
    "SELECT CAST(GETDATE() AS DATE) as currentdate;\n",
    "SELECT (AVG(distance), AVG(sum))\n",
    "FROM (\n",
    "            SELECT distance\n",
    "            FROM (line INNER JOIN plan on line.linenum = plan.nline\n",
    "            WHERE depart = currentdate\n",
    "        )\n",
    "```\n",
    "\n",
    "7. ```\n",
    "SELECT SUM(soldseats)\n",
    "FROM (dispatch INNER JOIN plan on dispatch.depcode = plan.depcode)\n",
    "```"
   ]
  }
 ],
 "metadata": {
  "kernelspec": {
   "display_name": "Python 3",
   "language": "python",
   "name": "python3"
  },
  "language_info": {
   "codemirror_mode": {
    "name": "ipython",
    "version": 3
   },
   "file_extension": ".py",
   "mimetype": "text/x-python",
   "name": "python",
   "nbconvert_exporter": "python",
   "pygments_lexer": "ipython3",
   "version": "3.5.1"
  }
 },
 "nbformat": 4,
 "nbformat_minor": 0
}

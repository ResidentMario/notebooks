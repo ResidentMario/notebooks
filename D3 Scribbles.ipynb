{
 "cells": [
  {
   "cell_type": "markdown",
   "metadata": {
    "collapsed": true
   },
   "source": [
    "# D3 in Jupyter\n",
    "\n",
    "This notebook is a template for generating D3 visualizations in a Jupyter notebook. Jupyter notebooks are the best visualization format and D3 is the best visualization grammer: [por qué no los dos](https://www.youtube.com/watch?v=vqgSO8_cRio)? A quick adaptation of [this](https://github.com/cmoscardi/embedded_d3_example/blob/master/Embedded_D3.ipynb) (discovery not my own, see [here](http://blog.thedataincubator.com/2015/08/embedding-d3-in-an-ipython-notebook/))."
   ]
  },
  {
   "cell_type": "markdown",
   "metadata": {},
   "source": [
    "## CSS"
   ]
  },
  {
   "cell_type": "code",
   "execution_count": 58,
   "metadata": {
    "collapsed": false,
    "scrolled": false
   },
   "outputs": [
    {
     "data": {
      "text/html": [
       "\n",
       "<style>\n",
       "div.bar {\n",
       "    display: inline-block;\n",
       "    width: 20px;\n",
       "    height: 75px;\n",
       "    background-color: teal;\n",
       "}\n",
       "</style>"
      ],
      "text/plain": [
       "<IPython.core.display.HTML object>"
      ]
     },
     "metadata": {},
     "output_type": "display_data"
    }
   ],
   "source": [
    "%%html\n",
    "\n",
    "<style>\n",
    "div.bar {\n",
    "    display: inline-block;\n",
    "    width: 20px;\n",
    "    height: 75px;\n",
    "    background-color: teal;\n",
    "}\n",
    "</style>"
   ]
  },
  {
   "cell_type": "markdown",
   "metadata": {},
   "source": [
    "## JavaScript"
   ]
  },
  {
   "cell_type": "code",
   "execution_count": 59,
   "metadata": {
    "collapsed": false,
    "scrolled": false
   },
   "outputs": [
    {
     "data": {
      "application/javascript": [
       "\n",
       "require.config({\n",
       "    paths: {\n",
       "        d3: '//cdnjs.cloudflare.com/ajax/libs/d3/3.4.8/d3'\n",
       "    }\n",
       "});"
      ],
      "text/plain": [
       "<IPython.core.display.Javascript object>"
      ]
     },
     "metadata": {},
     "output_type": "display_data"
    }
   ],
   "source": [
    "%%javascript\n",
    "\n",
    "require.config({\n",
    "    paths: {\n",
    "        d3: '//cdnjs.cloudflare.com/ajax/libs/d3/3.4.8/d3'\n",
    "    }\n",
    "});"
   ]
  },
  {
   "cell_type": "markdown",
   "metadata": {},
   "source": [
    "Simple SIGINT."
   ]
  },
  {
   "cell_type": "code",
   "execution_count": 99,
   "metadata": {
    "collapsed": false,
    "scrolled": true
   },
   "outputs": [
    {
     "data": {
      "application/javascript": [
       "require(['d3'], function(d3){\n",
       "    /*\n",
       "        Jupyter notebooks save their state between runtimes\n",
       "        so the chart needs to be explicitly destroyed and\n",
       "        recreated every time the code is run.\n",
       "    */\n",
       "    $(\"#chart\").remove();\n",
       "    element.append(\"<div id='chart'></div>\");\n",
       "\n",
       "    \n",
       "    var dataset = [ 5, 10, 15, 20, 25 ];\n",
       "    var chart = d3.select(\"#chart\")\n",
       "    chart.selectAll(\"div\").data(dataset).enter().append(\"div\")\n",
       "        .attr({\n",
       "            \"class\": \"bar\"\n",
       "        })\n",
       "        .style({\n",
       "            \"height\": function(d) {\n",
       "                console.log(d);\n",
       "                return d * 2.5 + \"px\";\n",
       "        },\n",
       "        \"width\": \"20\",\n",
       "        \"margin-right\": \"2px\"\n",
       "    });\n",
       "});"
      ],
      "text/plain": [
       "<IPython.core.display.Javascript object>"
      ]
     },
     "metadata": {},
     "output_type": "display_data"
    }
   ],
   "source": [
    "%%javascript\n",
    "require(['d3'], function(d3){\n",
    "    /*\n",
    "        Jupyter notebooks save their state between runtimes\n",
    "        so the chart needs to be explicitly destroyed and\n",
    "        recreated every time the code is run.\n",
    "    */\n",
    "    $(\"#chart\").remove();\n",
    "    element.append(\"<div id='chart'></div>\");\n",
    "\n",
    "    \n",
    "    var dataset = [ 5, 10, 15, 20, 25 ];\n",
    "    var chart = d3.select(\"#chart\")\n",
    "    chart.selectAll(\"div\").data(dataset).enter().append(\"div\")\n",
    "        .attr({\n",
    "            \"class\": \"bar\"\n",
    "        })\n",
    "        .style({\n",
    "            \"height\": function(d) {\n",
    "                console.log(d);\n",
    "                return d * 2.5 + \"px\";\n",
    "        },\n",
    "        \"width\": \"20\",\n",
    "        \"margin-right\": \"2px\"\n",
    "    });\n",
    "});"
   ]
  },
  {
   "cell_type": "markdown",
   "metadata": {},
   "source": [
    "Circles (testing CSS styles)."
   ]
  },
  {
   "cell_type": "code",
   "execution_count": 102,
   "metadata": {
    "collapsed": false
   },
   "outputs": [
    {
     "data": {
      "application/javascript": [
       "require(['d3'], function(d3){\n",
       "    /*\n",
       "        Jupyter notebooks save their state between runtimes\n",
       "        so the chart needs to be explicitly destroyed and\n",
       "        recreated every time the code is run.\n",
       "    */\n",
       "    $(\"#chart\").remove();\n",
       "    element.append(\"<div id='chart'></div>\");\n",
       "\n",
       "    \n",
       "    var dataset = [ 5, 10, 15, 20, 25 ];\n",
       "    var svg = d3.select(\"#chart\").append(\"svg\")\n",
       "    svg.attr({\n",
       "        \"width\": 750,\n",
       "        \"height\": 250\n",
       "    });\n",
       "    svg.selectAll(\"circle\").data(dataset).enter().append(\"circle\").attr({\n",
       "        \"fill\": \"yellow\",\n",
       "        \"stroke\": \"orange\",\n",
       "        \"stroke-width\": 3,\n",
       "        \"r\": function(d) { return d; },\n",
       "        \"cy\": 125,\n",
       "        \"cx\": function(d, i) { return 250 + i*50 + i * d; }\n",
       "    });\n",
       "//     console.log(svg)\n",
       "//     chart.selectAll(\"div\").data(dataset).enter().append(\"div\")\n",
       "//         .attr({\n",
       "//             \"class\": \"bar\"\n",
       "//         })\n",
       "//         .style({\n",
       "//             \"height\": function(d) {\n",
       "//                 console.log(d);\n",
       "//                 return d * 2.5 + \"px\";\n",
       "//         },\n",
       "//         \"width\": \"20\",\n",
       "//         \"margin-right\": \"2px\"\n",
       "//     });\n",
       "});"
      ],
      "text/plain": [
       "<IPython.core.display.Javascript object>"
      ]
     },
     "metadata": {},
     "output_type": "display_data"
    }
   ],
   "source": [
    "%%javascript\n",
    "require(['d3'], function(d3){\n",
    "    /*\n",
    "        Jupyter notebooks save their state between runtimes\n",
    "        so the chart needs to be explicitly destroyed and\n",
    "        recreated every time the code is run.\n",
    "    */\n",
    "    $(\"#chart\").remove();\n",
    "    element.append(\"<div id='chart'></div>\");\n",
    "\n",
    "    \n",
    "    var dataset = [ 5, 10, 15, 20, 25 ];\n",
    "    var svg = d3.select(\"#chart\").append(\"svg\")\n",
    "    svg.attr({\n",
    "        \"width\": 750,\n",
    "        \"height\": 250\n",
    "    });\n",
    "    svg.selectAll(\"circle\").data(dataset).enter().append(\"circle\").attr({\n",
    "        \"fill\": \"yellow\",\n",
    "        \"stroke\": \"orange\",\n",
    "        \"stroke-width\": 3,\n",
    "        \"r\": function(d) { return d; },\n",
    "        \"cy\": 125,\n",
    "        \"cx\": function(d, i) { return 250 + i*50 + i * d; }\n",
    "    });\n",
    "});"
   ]
  },
  {
   "cell_type": "markdown",
   "metadata": {},
   "source": [
    "A proper bar graph, but pointed the wrong way and not scaled against the container."
   ]
  },
  {
   "cell_type": "code",
   "execution_count": 118,
   "metadata": {
    "collapsed": false
   },
   "outputs": [
    {
     "data": {
      "application/javascript": [
       "require(['d3'], function(d3){\n",
       "    /*\n",
       "        Jupyter notebooks save their state between runtimes\n",
       "        so the chart needs to be explicitly destroyed and\n",
       "        recreated every time the code is run.        \n",
       "    */\n",
       "    $(\"#chart\").remove();\n",
       "    element.append(\"<div id='chart'></div>\");\n",
       "\n",
       "    \n",
       "    var dataset = [ 5, 10, 13, 19, 21, 25, 22, 18, 15, 13,\n",
       "                    11, 12, 15, 20, 18, 17, 16, 18, 23, 25 ];\n",
       "    var svg = d3.select(\"#chart\").append(\"svg\")\n",
       "    var w = 500\n",
       "    var h = 250\n",
       "    svg.attr({\n",
       "        \"width\": w,\n",
       "        \"height\": h\n",
       "    });\n",
       "    svg.selectAll(\"rect\").data(dataset).enter().append(\"rect\").attr({\n",
       "        \"fill\": \"black\",\n",
       "        \"width\": 20,\n",
       "        \"height\": function(d) { return d; },\n",
       "        \"x\": function(d, i) { return i * 21; }\n",
       "    });\n",
       "});"
      ],
      "text/plain": [
       "<IPython.core.display.Javascript object>"
      ]
     },
     "metadata": {},
     "output_type": "display_data"
    }
   ],
   "source": [
    "%%javascript\n",
    "require(['d3'], function(d3){\n",
    "    /*\n",
    "        Jupyter notebooks save their state between runtimes\n",
    "        so the chart needs to be explicitly destroyed and\n",
    "        recreated every time the code is run.        \n",
    "    */\n",
    "    $(\"#chart\").remove();\n",
    "    element.append(\"<div id='chart'></div>\");\n",
    "\n",
    "    \n",
    "    var dataset = [ 5, 10, 13, 19, 21, 25, 22, 18, 15, 13,\n",
    "                    11, 12, 15, 20, 18, 17, 16, 18, 23, 25 ];\n",
    "    var svg = d3.select(\"#chart\").append(\"svg\")\n",
    "    var w = 500\n",
    "    var h = 250\n",
    "    svg.attr({\n",
    "        \"width\": w,\n",
    "        \"height\": h\n",
    "    });\n",
    "    svg.selectAll(\"rect\").data(dataset).enter().append(\"rect\").attr({\n",
    "        \"fill\": \"black\",\n",
    "        \"width\": 20,\n",
    "        \"height\": function(d) { return d; },\n",
    "        \"x\": function(d, i) { return i * 21; }\n",
    "    });\n",
    "});"
   ]
  },
  {
   "cell_type": "markdown",
   "metadata": {},
   "source": [
    "A proper bar graph, pointed the right way, centered vertically and horizontally, hand-scaled both vertically and horizontally.\n",
    "\n",
    "The SVG origin `(0,0)` point as at the top-left corner, so you have to reverse `x` to get things pointed the right way. Since `SVG` spec doesn't allow negative coordinates this means we have to calculate the headspace and move the `x` that far down...not that well thought out.\n",
    "\n",
    "Centering is best handled using external HTML, as here. `margin:auto; display:block;` doesn't seem to work, but `text-alight:center;` does. How sordid `CSS/HTML` centering is! I want my `<center>` back."
   ]
  },
  {
   "cell_type": "code",
   "execution_count": 176,
   "metadata": {
    "collapsed": false
   },
   "outputs": [
    {
     "data": {
      "application/javascript": [
       "require(['d3'], function(d3){\n",
       "    /*\n",
       "        Jupyter notebooks save their state between runtimes\n",
       "        so the chart needs to be explicitly destroyed and\n",
       "        recreated every time the code is run.        \n",
       "    */\n",
       "    $(\"#chart\").remove();\n",
       "    element.append(\"<div id='chart' style='margin:auto; text-align:center;'></div>\");\n",
       "//     element.append(\"<div id='chart' style='margin:auto; diplay:block'></div>\");\n",
       "    \n",
       "    \n",
       "    var dataset = [ 5, 10, 13, 19, 21, 25, 22, 18, 15, 13,\n",
       "                    11, 12, 15, 20, 18, 17, 16, 18, 23, 25 ];\n",
       "    var svg = d3.select(\"#chart\").append(\"svg\");\n",
       "    var w = 800;\n",
       "    var h = 250;\n",
       "    var bar_padding = 1;\n",
       "    // \"...\" is the spread operator. It unpacks arrays?\n",
       "    // You can't just call max on the array variable...\n",
       "    console.log(Math.max(...dataset))\n",
       "    // Must also compensate for padding in the below.\n",
       "    var bar_width = w / dataset.length - bar_padding;\n",
       "    var max_height = h\n",
       "    var scaled_unit = h / Math.max(...dataset)\n",
       "    svg.attr({\n",
       "        \"width\": w,\n",
       "        \"height\": h,\n",
       "        \"shape-rendering\": \"crispEdges\",\n",
       "    });\n",
       "    svg.selectAll(\"rect\").data(dataset).enter().append(\"rect\").attr({\n",
       "        \"fill\": \"black\",\n",
       "        \"width\": bar_width,\n",
       "        \"height\": function(d) { return d * scaled_unit; },\n",
       "        \"x\": function(d, i) { return (bar_width + 1) * i; },\n",
       "        /* \n",
       "            SVG does not allow negative coordinates so we have to \"grow from above\".\n",
       "            ...wow this is crude. \"Standards\" haha damn.\n",
       "        */\n",
       "        \"y\": function(d) { return (Math.max(...dataset) - d) * scaled_unit },\n",
       "    });\n",
       "});"
      ],
      "text/plain": [
       "<IPython.core.display.Javascript object>"
      ]
     },
     "metadata": {},
     "output_type": "display_data"
    }
   ],
   "source": [
    "%%javascript\n",
    "require(['d3'], function(d3){\n",
    "    /*\n",
    "        Jupyter notebooks save their state between runtimes\n",
    "        so the chart needs to be explicitly destroyed and\n",
    "        recreated every time the code is run.        \n",
    "    */\n",
    "    $(\"#chart\").remove();\n",
    "    element.append(\"<div id='chart' style='margin:auto; text-align:center;'></div>\");\n",
    "//     element.append(\"<div id='chart' style='margin:auto; diplay:block'></div>\");\n",
    "    \n",
    "    \n",
    "    var dataset = [ 5, 10, 13, 19, 21, 25, 22, 18, 15, 13,\n",
    "                    11, 12, 15, 20, 18, 17, 16, 18, 23, 25 ];\n",
    "    var svg = d3.select(\"#chart\").append(\"svg\");\n",
    "    var w = 800;\n",
    "    var h = 250;\n",
    "    var bar_padding = 1;\n",
    "    // \"...\" is the spread operator. It unpacks arrays?\n",
    "    // You can't just call max on the array variable...\n",
    "    console.log(Math.max(...dataset))\n",
    "    // Must also compensate for padding in the below.\n",
    "    var bar_width = w / dataset.length - bar_padding;\n",
    "    var max_height = h\n",
    "    var scaled_unit = h / Math.max(...dataset)\n",
    "    svg.attr({\n",
    "        \"width\": w,\n",
    "        \"height\": h,\n",
    "        /*\n",
    "            The below is an SVG property which forces elements inside to conform to the nearest whole digit.\n",
    "            Because a half a pixel is rendered as a blur, this forces sharpness.\n",
    "        */\n",
    "        \"shape-rendering\": \"crispEdges\",\n",
    "    });\n",
    "    svg.selectAll(\"rect\").data(dataset).enter().append(\"rect\").attr({\n",
    "        \"fill\": \"black\",\n",
    "        \"width\": bar_width,\n",
    "        \"height\": function(d) { return d * scaled_unit; },\n",
    "        \"x\": function(d, i) { return (bar_width + 1) * i; },\n",
    "        /* \n",
    "            SVG does not allow negative coordinates so we have to \"grow from above\".\n",
    "            ...wow this is crude. \"Standards\" haha damn.\n",
    "        */\n",
    "        \"y\": function(d) { return (Math.max(...dataset) - d) * scaled_unit },\n",
    "    });\n",
    "});"
   ]
  },
  {
   "cell_type": "markdown",
   "metadata": {},
   "source": [
    "Add a dead-simple RBG-based color map. Create labels and center them within the graph."
   ]
  },
  {
   "cell_type": "code",
   "execution_count": 216,
   "metadata": {
    "collapsed": false
   },
   "outputs": [
    {
     "data": {
      "application/javascript": [
       "require(['d3'], function(d3){\n",
       "    /*\n",
       "        Jupyter notebooks save their state between runtimes\n",
       "        so the chart needs to be explicitly destroyed and\n",
       "        recreated every time the code is run.        \n",
       "    */\n",
       "    $(\"#chart\").remove();\n",
       "    element.append(\"<div id='chart' style='margin:auto; text-align:center;'></div>\");\n",
       "//     element.append(\"<div id='chart' style='margin:auto; diplay:block'></div>\");\n",
       "    \n",
       "    \n",
       "    var dataset = [ 5, 10, 13, 19, 21, 25, 22, 18, 15, 13,\n",
       "                    11, 12, 15, 20, 18, 17, 16, 18, 23, 25 ];\n",
       "    var svg = d3.select(\"#chart\").append(\"svg\");\n",
       "    var w = 800;\n",
       "    var h = 250;\n",
       "    var bar_padding = 1;\n",
       "    // \"...\" is the spread operator. It unpacks arrays?\n",
       "    // You can't just call max on the array variable...\n",
       "    console.log(Math.max(...dataset))\n",
       "    // Must also compensate for padding in the below.\n",
       "    var bar_width = w / dataset.length - bar_padding;\n",
       "    var max_height = h\n",
       "    var scaled_unit = h / Math.max(...dataset)\n",
       "    svg.attr({\n",
       "        \"width\": w,\n",
       "        \"height\": h,\n",
       "        /*\n",
       "            The below is an SVG property which forces elements inside to conform to the nearest whole digit.\n",
       "            Because a half a pixel is rendered as a blur, this forces sharpness.\n",
       "        */\n",
       "        \"shape-rendering\": \"crispEdges\",\n",
       "    });\n",
       "    svg.selectAll(\"rect\").data(dataset).enter().append(\"rect\").attr({\n",
       "        \"fill\": \"black\",\n",
       "        \"width\": bar_width,\n",
       "        \"height\": function(d) { return d * scaled_unit; },\n",
       "        \"x\": function(d, i) { return (bar_width + 1) * i; },\n",
       "        /* \n",
       "            SVG does not allow negative coordinates so we have to \"grow from above\".\n",
       "            ...wow this is crude. \"Standards\" haha damn.\n",
       "        */\n",
       "        \"y\": function(d) { return (Math.max(...dataset) - d) * scaled_unit },\n",
       "        \"fill\": function(d) { return \"rgb(0, 0, \" + (d * 10) + \")\"; }\n",
       "    });\n",
       "    svg.selectAll(\"text\")\n",
       "        .data(dataset)\n",
       "        .enter()\n",
       "        .append(\"text\")\n",
       "        .text(function(d) { return d; })\n",
       "        .attr({\n",
       "            \"fill\": \"white\",\n",
       "            \"x\": function(d, i) { return (bar_width + 1) * i + bar_width / 4 + 1; },\n",
       "            \"y\": function(d) { return (Math.max(...dataset) - d) * scaled_unit + 20 },\n",
       "        });\n",
       "});"
      ],
      "text/plain": [
       "<IPython.core.display.Javascript object>"
      ]
     },
     "metadata": {},
     "output_type": "display_data"
    }
   ],
   "source": [
    "%%javascript\n",
    "require(['d3'], function(d3){\n",
    "    /*\n",
    "        Jupyter notebooks save their state between runtimes\n",
    "        so the chart needs to be explicitly destroyed and\n",
    "        recreated every time the code is run.        \n",
    "    */\n",
    "    $(\"#chart\").remove();\n",
    "    element.append(\"<div id='chart' style='margin:auto; text-align:center;'></div>\");\n",
    "//     element.append(\"<div id='chart' style='margin:auto; diplay:block'></div>\");\n",
    "    \n",
    "    \n",
    "    var dataset = [ 5, 10, 13, 19, 21, 25, 22, 18, 15, 13,\n",
    "                    11, 12, 15, 20, 18, 17, 16, 18, 23, 25 ];\n",
    "    var svg = d3.select(\"#chart\").append(\"svg\");\n",
    "    var w = 800;\n",
    "    var h = 250;\n",
    "    var bar_padding = 1;\n",
    "    // \"...\" is the spread operator. It unpacks arrays?\n",
    "    // You can't just call max on the array variable...\n",
    "    console.log(Math.max(...dataset))\n",
    "    // Must also compensate for padding in the below.\n",
    "    var bar_width = w / dataset.length - bar_padding;\n",
    "    var max_height = h\n",
    "    var scaled_unit = h / Math.max(...dataset)\n",
    "    svg.attr({\n",
    "        \"width\": w,\n",
    "        \"height\": h,\n",
    "        /*\n",
    "            The below is an SVG property which forces elements inside to conform to the nearest whole digit.\n",
    "            Because a half a pixel is rendered as a blur, this forces sharpness.\n",
    "        */\n",
    "        \"shape-rendering\": \"crispEdges\",\n",
    "    });\n",
    "    svg.selectAll(\"rect\").data(dataset).enter().append(\"rect\").attr({\n",
    "        \"fill\": \"black\",\n",
    "        \"width\": bar_width,\n",
    "        \"height\": function(d) { return d * scaled_unit; },\n",
    "        \"x\": function(d, i) { return (bar_width + 1) * i; },\n",
    "        /* \n",
    "            SVG does not allow negative coordinates so we have to \"grow from above\".\n",
    "            ...wow this is crude. \"Standards\" haha damn.\n",
    "        */\n",
    "        \"y\": function(d) { return (Math.max(...dataset) - d) * scaled_unit },\n",
    "        \"fill\": function(d) { return \"rgb(0, 0, \" + (d * 10) + \")\"; }\n",
    "    });\n",
    "    svg.selectAll(\"text\")\n",
    "        .data(dataset)\n",
    "        .enter()\n",
    "        .append(\"text\")\n",
    "        .text(function(d) { return d; })\n",
    "        .attr({\n",
    "            \"fill\": \"white\",\n",
    "            \"x\": function(d, i) { return (bar_width + 1) * i + bar_width / 4 + 1; },\n",
    "            \"y\": function(d) { return (Math.max(...dataset) - d) * scaled_unit + 20 },\n",
    "        });\n",
    "});"
   ]
  },
  {
   "cell_type": "markdown",
   "metadata": {},
   "source": [
    "An SVG trick to get the labels properly centered: use `text-anchor` to move the centroid from the left-bottom edge to the bottom-center one using `middle`."
   ]
  },
  {
   "cell_type": "code",
   "execution_count": 232,
   "metadata": {
    "collapsed": false
   },
   "outputs": [
    {
     "data": {
      "application/javascript": [
       "require(['d3'], function(d3){\n",
       "    /*\n",
       "        Jupyter notebooks save their state between runtimes\n",
       "        so the chart needs to be explicitly destroyed and\n",
       "        recreated every time the code is run.        \n",
       "    */\n",
       "    $(\"#chart\").remove();\n",
       "    element.append(\"<div id='chart' style='margin:auto; text-align:center;'></div>\");\n",
       "    \n",
       "    \n",
       "    var dataset = [ 5, 10, 13, 19, 21, 25, 22, 18, 15, 13,\n",
       "                    11, 12, 15, 20, 18, 17, 16, 18, 23, 25 ];\n",
       "    var svg = d3.select(\"#chart\").append(\"svg\");\n",
       "    var w = 800;\n",
       "    var h = 250;\n",
       "    var bar_padding = 1;\n",
       "    // \"...\" is the spread operator. It unpacks arrays?\n",
       "    // You can't just call max on the array variable...\n",
       "    console.log(Math.max(...dataset))\n",
       "    // Must also compensate for padding in the below.\n",
       "    var bar_width = w / dataset.length - bar_padding;\n",
       "    var max_height = h\n",
       "    var scaled_unit = h / Math.max(...dataset)\n",
       "    svg.attr({\n",
       "        \"width\": w,\n",
       "        \"height\": h,\n",
       "        /*\n",
       "            The below is an SVG property which forces elements inside to conform to the nearest whole digit.\n",
       "            Because a half a pixel is rendered as a blur, this forces sharpness.\n",
       "        */\n",
       "        \"shape-rendering\": \"crispEdges\",\n",
       "    });\n",
       "    svg.selectAll(\"rect\").data(dataset).enter().append(\"rect\").attr({\n",
       "        \"fill\": \"black\",\n",
       "        \"width\": bar_width,\n",
       "        \"height\": function(d) { return d * scaled_unit; },\n",
       "        \"x\": function(d, i) { return (bar_width + 1) * i; },\n",
       "        /* \n",
       "            SVG does not allow negative coordinates so we have to \"grow from above\".\n",
       "            ...wow this is crude. \"Standards\" haha damn.\n",
       "        */\n",
       "        \"y\": function(d) { return (Math.max(...dataset) - d) * scaled_unit },\n",
       "        \"fill\": function(d) { return \"rgb(0, 0, \" + (d * 10) + \")\"; }\n",
       "    });\n",
       "    svg.selectAll(\"text\")\n",
       "        .data(dataset)\n",
       "        .enter()\n",
       "        .append(\"text\")\n",
       "        .text(function(d) { return d; })\n",
       "        .attr({\n",
       "            \"text-anchor\": \"middle\",\n",
       "            \"fill\": \"white\",\n",
       "            \"x\": function(d, i) { return (bar_width + 1) * i + bar_width / 2 - 1 },\n",
       "            \"y\": function(d) { return (Math.max(...dataset) - d) * scaled_unit + 20 },\n",
       "    });\n",
       "});"
      ],
      "text/plain": [
       "<IPython.core.display.Javascript object>"
      ]
     },
     "metadata": {},
     "output_type": "display_data"
    }
   ],
   "source": [
    "%%javascript\n",
    "require(['d3'], function(d3){\n",
    "    /*\n",
    "        Jupyter notebooks save their state between runtimes\n",
    "        so the chart needs to be explicitly destroyed and\n",
    "        recreated every time the code is run.        \n",
    "    */\n",
    "    $(\"#chart\").remove();\n",
    "    element.append(\"<div id='chart' style='margin:auto; text-align:center;'></div>\");\n",
    "    \n",
    "    \n",
    "    var dataset = [ 5, 10, 13, 19, 21, 25, 22, 18, 15, 13,\n",
    "                    11, 12, 15, 20, 18, 17, 16, 18, 23, 25 ];\n",
    "    var svg = d3.select(\"#chart\").append(\"svg\");\n",
    "    var w = 800;\n",
    "    var h = 250;\n",
    "    var bar_padding = 1;\n",
    "    // \"...\" is the spread operator. It unpacks arrays?\n",
    "    // You can't just call max on the array variable...\n",
    "    console.log(Math.max(...dataset))\n",
    "    // Must also compensate for padding in the below.\n",
    "    var bar_width = w / dataset.length - bar_padding;\n",
    "    var max_height = h\n",
    "    var scaled_unit = h / Math.max(...dataset)\n",
    "    svg.attr({\n",
    "        \"width\": w,\n",
    "        \"height\": h,\n",
    "        /*\n",
    "            The below is an SVG property which forces elements inside to conform to the nearest whole digit.\n",
    "            Because a half a pixel is rendered as a blur, this forces sharpness.\n",
    "        */\n",
    "        \"shape-rendering\": \"crispEdges\",\n",
    "    });\n",
    "    svg.selectAll(\"rect\").data(dataset).enter().append(\"rect\").attr({\n",
    "        \"fill\": \"black\",\n",
    "        \"width\": bar_width,\n",
    "        \"height\": function(d) { return d * scaled_unit; },\n",
    "        \"x\": function(d, i) { return (bar_width + 1) * i; },\n",
    "        /* \n",
    "            SVG does not allow negative coordinates so we have to \"grow from above\".\n",
    "            ...wow this is crude. \"Standards\" haha damn.\n",
    "        */\n",
    "        \"y\": function(d) { return (Math.max(...dataset) - d) * scaled_unit },\n",
    "        \"fill\": function(d) { return \"rgb(0, 0, \" + (d * 10) + \")\"; }\n",
    "    });\n",
    "    svg.selectAll(\"text\")\n",
    "        .data(dataset)\n",
    "        .enter()\n",
    "        .append(\"text\")\n",
    "        .text(function(d) { return d; })\n",
    "        .attr({\n",
    "            \"text-anchor\": \"middle\",\n",
    "            \"fill\": \"white\",\n",
    "            \"x\": function(d, i) { return (bar_width + 1) * i + bar_width / 2 - 1 },\n",
    "            \"y\": function(d) { return (Math.max(...dataset) - d) * scaled_unit + 20 },\n",
    "    });\n",
    "});"
   ]
  },
  {
   "cell_type": "markdown",
   "metadata": {},
   "source": [
    "Scatterplot using scales."
   ]
  },
  {
   "cell_type": "code",
   "execution_count": 54,
   "metadata": {
    "collapsed": false
   },
   "outputs": [
    {
     "data": {
      "application/javascript": [
       "require(['d3'], function(d3){\n",
       "    /*\n",
       "        Jupyter notebooks save their state between runtimes\n",
       "        so the chart needs to be explicitly destroyed and\n",
       "        recreated every time the code is run.        \n",
       "    */\n",
       "    $(\"#chart\").remove();\n",
       "    element.append(\"<div id='chart' style='margin:auto; text-align:center;'></div>\");\n",
       "    \n",
       "    \n",
       "    var svg = d3.select(\"#chart\").append(\"svg\");\n",
       "    var w = 800;\n",
       "    var h = 250;\n",
       "    var dataset = [\n",
       "                  [ 5,     20 ],\n",
       "                  [ 480,   90 ],\n",
       "                  [ 250,   50 ],\n",
       "                  [ 100,   33 ],\n",
       "                  [ 330,   95 ],\n",
       "                  [ 410,   12 ],\n",
       "                  [ 475,   44 ],\n",
       "                  [ 25,    67 ],\n",
       "                  [ 85,    21 ],\n",
       "                  [ 220,   88 ]\n",
       "              ];\n",
       "    var padding = 20;\n",
       "    svg.attr({\n",
       "        \"width\": w,\n",
       "        \"height\": h,\n",
       "        /*\n",
       "            The below is an SVG property which forces elements inside to conform to the nearest whole digit.\n",
       "            Because a half a pixel is rendered as a blur, this forces sharpness.\n",
       "        */\n",
       "//         \"shape-rendering\": \"crispEdges\",\n",
       "    });\n",
       "    var xScale = d3.scale.linear()\n",
       "                         .domain([0, d3.max(dataset, function(d) { return d[0]; })])\n",
       "                         .range([padding, w - padding]);\n",
       "    var yScale = d3.scale.linear()\n",
       "                         .domain([0, d3.max(dataset, function(d) { return d[1]; })])\n",
       "                         .range([padding, h - padding]);\n",
       "    var rScale = d3.scale.linear()\n",
       "                     .domain([0, d3.max(dataset, function(d) { return d[1]; })])\n",
       "                     .range([2, 5]);\n",
       "    svg.selectAll(\"circ\").data(dataset).enter().append(\"circle\").attr({\n",
       "        \"cx\": function(d) { return xScale(d[0]); },\n",
       "        \"cy\": function(d) { return yScale(d[1]); },\n",
       "        \"fill\": \"black\",\n",
       "        \"r\": function(d) { return rScale(d[1]); }\n",
       "    })\n",
       "});"
      ],
      "text/plain": [
       "<IPython.core.display.Javascript object>"
      ]
     },
     "metadata": {},
     "output_type": "display_data"
    }
   ],
   "source": [
    "%%javascript\n",
    "require(['d3'], function(d3){\n",
    "    /*\n",
    "        Jupyter notebooks save their state between runtimes\n",
    "        so the chart needs to be explicitly destroyed and\n",
    "        recreated every time the code is run.        \n",
    "    */\n",
    "    $(\"#chart\").remove();\n",
    "    element.append(\"<div id='chart' style='margin:auto; text-align:center;'></div>\");\n",
    "    \n",
    "    \n",
    "    var svg = d3.select(\"#chart\").append(\"svg\");\n",
    "    var w = 800;\n",
    "    var h = 250;\n",
    "    var dataset = [\n",
    "                  [ 5,     20 ],\n",
    "                  [ 480,   90 ],\n",
    "                  [ 250,   50 ],\n",
    "                  [ 100,   33 ],\n",
    "                  [ 330,   95 ],\n",
    "                  [ 410,   12 ],\n",
    "                  [ 475,   44 ],\n",
    "                  [ 25,    67 ],\n",
    "                  [ 85,    21 ],\n",
    "                  [ 220,   88 ]\n",
    "              ];\n",
    "    var padding = 20;\n",
    "    svg.attr({\n",
    "        \"width\": w,\n",
    "        \"height\": h,\n",
    "        /*\n",
    "            The below is an SVG property which forces elements inside to conform to the nearest whole digit.\n",
    "            Because a half a pixel is rendered as a blur, this forces sharpness.\n",
    "        */\n",
    "//         \"shape-rendering\": \"crispEdges\",\n",
    "    });\n",
    "    var xScale = d3.scale.linear()\n",
    "                         .domain([0, d3.max(dataset, function(d) { return d[0]; })])\n",
    "                         .range([padding, w - padding]);\n",
    "    var yScale = d3.scale.linear()\n",
    "                         .domain([0, d3.max(dataset, function(d) { return d[1]; })])\n",
    "                         .range([padding, h - padding]);\n",
    "    var rScale = d3.scale.linear()\n",
    "                     .domain([0, d3.max(dataset, function(d) { return d[1]; })])\n",
    "                     .range([2, 5]);\n",
    "    svg.selectAll(\"circ\").data(dataset).enter().append(\"circle\").attr({\n",
    "        \"cx\": function(d) { return xScale(d[0]); },\n",
    "        \"cy\": function(d) { return yScale(d[1]); },\n",
    "        \"fill\": \"black\",\n",
    "        \"r\": function(d) { return rScale(d[1]); }\n",
    "    })\n",
    "});"
   ]
  },
  {
   "cell_type": "markdown",
   "metadata": {},
   "source": [
    "With axis. Axis visual is cleaned up by the CSS in the block below. Moral of the story: groups (g) are very useful for applying styles in SVG."
   ]
  },
  {
   "cell_type": "code",
   "execution_count": 57,
   "metadata": {
    "collapsed": false
   },
   "outputs": [
    {
     "data": {
      "text/html": [
       "<style>\n",
       ".axis path,\n",
       ".axis line {\n",
       "    fill: none;\n",
       "    stroke: black;\n",
       "    shape-rendering: crispEdges;\n",
       "}\n",
       "\n",
       ".axis text {\n",
       "    font-family: sans-serif;\n",
       "    font-size: 11px;\n",
       "}\n",
       "</style>"
      ],
      "text/plain": [
       "<IPython.core.display.HTML object>"
      ]
     },
     "metadata": {},
     "output_type": "display_data"
    }
   ],
   "source": [
    "%%html\n",
    "<style>\n",
    ".axis path,\n",
    ".axis line {\n",
    "    fill: none;\n",
    "    stroke: black;\n",
    "    shape-rendering: crispEdges;\n",
    "}\n",
    "\n",
    ".axis text {\n",
    "    font-family: sans-serif;\n",
    "    font-size: 11px;\n",
    "}\n",
    "</style>"
   ]
  },
  {
   "cell_type": "code",
   "execution_count": 58,
   "metadata": {
    "collapsed": false
   },
   "outputs": [
    {
     "data": {
      "application/javascript": [
       "require(['d3'], function(d3){\n",
       "    /*\n",
       "        Jupyter notebooks save their state between runtimes\n",
       "        so the chart needs to be explicitly destroyed and\n",
       "        recreated every time the code is run.        \n",
       "    */\n",
       "    $(\"#chart\").remove();\n",
       "    element.append(\"<div id='chart' style='margin:auto; text-align:center;'></div>\");\n",
       "    \n",
       "    \n",
       "    var svg = d3.select(\"#chart\").append(\"svg\");\n",
       "    var w = 800;\n",
       "    var h = 250;\n",
       "    var dataset = [\n",
       "                  [ 5,     20 ],\n",
       "                  [ 480,   90 ],\n",
       "                  [ 250,   50 ],\n",
       "                  [ 100,   33 ],\n",
       "                  [ 330,   95 ],\n",
       "                  [ 410,   12 ],\n",
       "                  [ 475,   44 ],\n",
       "                  [ 25,    67 ],\n",
       "                  [ 85,    21 ],\n",
       "                  [ 220,   88 ]\n",
       "              ];\n",
       "    var padding = 20;\n",
       "    svg.attr({\n",
       "        \"width\": w,\n",
       "        \"height\": h,\n",
       "        /*\n",
       "            The below is an SVG property which forces elements inside to conform to the nearest whole digit.\n",
       "            Because a half a pixel is rendered as a blur, this forces sharpness.\n",
       "        */\n",
       "//         \"shape-rendering\": \"crispEdges\",\n",
       "    });\n",
       "    var xScale = d3.scale.linear()\n",
       "                         .domain([0, d3.max(dataset, function(d) { return d[0]; })])\n",
       "                         .range([padding, w - padding]);\n",
       "    var yScale = d3.scale.linear()\n",
       "                         .domain([0, d3.max(dataset, function(d) { return d[1]; })])\n",
       "                         .range([padding, h - padding]);\n",
       "    var rScale = d3.scale.linear()\n",
       "                     .domain([0, d3.max(dataset, function(d) { return d[1]; })])\n",
       "                     .range([2, 5]);\n",
       "    svg.selectAll(\"circ\").data(dataset).enter().append(\"circle\").attr({\n",
       "        \"cx\": function(d) { return xScale(d[0]); },\n",
       "        \"cy\": function(d) { return yScale(d[1]); },\n",
       "        \"fill\": \"black\",\n",
       "        \"r\": function(d) { return rScale(d[1]); }\n",
       "    })\n",
       "    var xAxis = d3.svg.axis()\n",
       "                      .scale(xScale)\n",
       "                      .orient(\"bottom\");\n",
       "    var yAxis = d3.svg.axis()\n",
       "                  .scale(yScale)\n",
       "                  .orient(\"right\");\n",
       "//     xAxis = xAxis.attr(\"class\", \"axis\");\n",
       "//     yAxis.attr(\"class\", \"axis\");\n",
       "    svg.append(\"g\").attr(\"class\", \"axis\").call(xAxis);\n",
       "    svg.append(\"g\").attr(\"class\", \"axis\").call(yAxis);\n",
       "});"
      ],
      "text/plain": [
       "<IPython.core.display.Javascript object>"
      ]
     },
     "metadata": {},
     "output_type": "display_data"
    }
   ],
   "source": [
    "%%javascript\n",
    "require(['d3'], function(d3){\n",
    "    /*\n",
    "        Jupyter notebooks save their state between runtimes\n",
    "        so the chart needs to be explicitly destroyed and\n",
    "        recreated every time the code is run.        \n",
    "    */\n",
    "    $(\"#chart\").remove();\n",
    "    element.append(\"<div id='chart' style='margin:auto; text-align:center;'></div>\");\n",
    "    \n",
    "    \n",
    "    var svg = d3.select(\"#chart\").append(\"svg\");\n",
    "    var w = 800;\n",
    "    var h = 250;\n",
    "    var dataset = [\n",
    "                  [ 5,     20 ],\n",
    "                  [ 480,   90 ],\n",
    "                  [ 250,   50 ],\n",
    "                  [ 100,   33 ],\n",
    "                  [ 330,   95 ],\n",
    "                  [ 410,   12 ],\n",
    "                  [ 475,   44 ],\n",
    "                  [ 25,    67 ],\n",
    "                  [ 85,    21 ],\n",
    "                  [ 220,   88 ]\n",
    "              ];\n",
    "    var padding = 20;\n",
    "    svg.attr({\n",
    "        \"width\": w,\n",
    "        \"height\": h,\n",
    "        /*\n",
    "            The below is an SVG property which forces elements inside to conform to the nearest whole digit.\n",
    "            Because a half a pixel is rendered as a blur, this forces sharpness.\n",
    "        */\n",
    "//         \"shape-rendering\": \"crispEdges\",\n",
    "    });\n",
    "    var xScale = d3.scale.linear()\n",
    "                         .domain([0, d3.max(dataset, function(d) { return d[0]; })])\n",
    "                         .range([padding, w - padding]);\n",
    "    var yScale = d3.scale.linear()\n",
    "                         .domain([0, d3.max(dataset, function(d) { return d[1]; })])\n",
    "                         .range([padding, h - padding]);\n",
    "    var rScale = d3.scale.linear()\n",
    "                     .domain([0, d3.max(dataset, function(d) { return d[1]; })])\n",
    "                     .range([2, 5]);\n",
    "    svg.selectAll(\"circ\").data(dataset).enter().append(\"circle\").attr({\n",
    "        \"cx\": function(d) { return xScale(d[0]); },\n",
    "        \"cy\": function(d) { return yScale(d[1]); },\n",
    "        \"fill\": \"black\",\n",
    "        \"r\": function(d) { return rScale(d[1]); }\n",
    "    })\n",
    "    var xAxis = d3.svg.axis()\n",
    "                      .scale(xScale)\n",
    "                      .orient(\"bottom\");\n",
    "    var yAxis = d3.svg.axis()\n",
    "                  .scale(yScale)\n",
    "                  .orient(\"right\");\n",
    "    svg.append(\"g\").attr(\"class\", \"axis\").call(xAxis);\n",
    "    svg.append(\"g\").attr(\"class\", \"axis\").call(yAxis);\n",
    "});"
   ]
  },
  {
   "cell_type": "code",
   "execution_count": null,
   "metadata": {
    "collapsed": true
   },
   "outputs": [],
   "source": []
  }
 ],
 "metadata": {
  "kernelspec": {
   "display_name": "Python 3",
   "language": "python",
   "name": "python3"
  },
  "language_info": {
   "codemirror_mode": {
    "name": "ipython",
    "version": 3
   },
   "file_extension": ".py",
   "mimetype": "text/x-python",
   "name": "python",
   "nbconvert_exporter": "python",
   "pygments_lexer": "ipython3",
   "version": "3.4.3"
  }
 },
 "nbformat": 4,
 "nbformat_minor": 0
}

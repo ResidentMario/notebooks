{
 "cells": [
  {
   "cell_type": "markdown",
   "metadata": {},
   "source": [
    "* Vertex set\n",
    "* Edge set\n",
    "* Loop\n",
    "* Multiple edge\n",
    "* Simple graph\n",
    "* Adjacent/neighbors\n",
    "* Finite graph\n",
    "* Null graph\n",
    "* Complement\n",
    "* Clique\n",
    "* Independent set\n",
    "* Bipartite graph (union of disjoint sets)\n",
    "* Chromatic number\n",
    "* Planar graph\n",
    "* Connected/disconnecedted graph\n",
    "* Subgraph\n",
    "* Path\n",
    "* Cycle\n",
    "* Walk\n",
    "* Trail\n",
    "* u,v walk, u,v trail\n",
    "* Adjacency matrix\n",
    "* Incident (vertex and edge)\n",
    "* Incidence matrix\n",
    "* Isomorphism (bijection)\n",
    "* Finding isomorphism using compliments\n",
    "* Equivalence relation (an isomorphic transform is one)\n",
    "* Complete graph\n",
    "* Number of edges of a complete graph (formula)\n",
    "* Complete bipartite graph\n",
    "* Self-complementary graph\n",
    "* Decomposition\n",
    "* Petersen graph\n",
    "* Girth\n",
    "* Automorphism\n",
    "* Complete graph\n",
    "* Handshaking lemma"
   ]
  },
  {
   "cell_type": "code",
   "execution_count": null,
   "metadata": {
    "collapsed": true
   },
   "outputs": [],
   "source": []
  }
 ],
 "metadata": {
  "kernelspec": {
   "display_name": "Python 3",
   "language": "python",
   "name": "python3"
  },
  "language_info": {
   "codemirror_mode": {
    "name": "ipython",
    "version": 3
   },
   "file_extension": ".py",
   "mimetype": "text/x-python",
   "name": "python",
   "nbconvert_exporter": "python",
   "pygments_lexer": "ipython3",
   "version": "3.5.1"
  }
 },
 "nbformat": 4,
 "nbformat_minor": 0
}

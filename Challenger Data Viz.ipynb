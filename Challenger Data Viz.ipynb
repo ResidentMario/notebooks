{
 "cells": [
  {
   "cell_type": "code",
   "execution_count": 1,
   "metadata": {
    "collapsed": true
   },
   "outputs": [],
   "source": [
    "from bokeh.plotting import figure, output_notebook, show\n",
    "import pandas as pd\n",
    "from pandas import Series\n",
    "import numpy as np"
   ]
  },
  {
   "cell_type": "code",
   "execution_count": 8,
   "metadata": {
    "collapsed": false
   },
   "outputs": [
    {
     "data": {
      "text/plain": [
       "'{\"53\":11,\"57\":4,\"58\":4,\"63\":2,\"66\":0,\"67\":0,\"68\":0,\"69\":0,\"70\":4,\"72\":0,\"73\":0,\"75\":4,\"76\":0,\"78\":0,\"79\":0,\"81\":0}'"
      ]
     },
     "execution_count": 8,
     "metadata": {},
     "output_type": "execute_result"
    }
   ],
   "source": [
    "dat = Series({53:11,57:4,58:4,63:2,66:0,67:0,67:0,67:0,68:0,69:0,70:4,70:0,70:4,72:0,73:0,75:0,75:4,76:0,78:0,79:0,81:0})\n",
    "dat.to_json()"
   ]
  },
  {
   "cell_type": "code",
   "execution_count": null,
   "metadata": {
    "collapsed": true
   },
   "outputs": [],
   "source": [
    "[53,57,58,63,66,67,67,67,68,69,70,70,70,72,73,75,75,76,78,79,81]\n",
    "[11,4,4,2,0,0,0,0,0,0,4,0,4,0,0,0,4,0,0,0,0]"
   ]
  },
  {
   "cell_type": "code",
   "execution_count": 7,
   "metadata": {
    "collapsed": false
   },
   "outputs": [
    {
     "data": {
      "text/html": [
       "\n",
       "\n",
       "    <script type=\"text/javascript\">\n",
       "      \n",
       "      (function(global) {\n",
       "        function now() {\n",
       "          return new Date();\n",
       "        }\n",
       "      \n",
       "        if (typeof (window._bokeh_onload_callbacks) === \"undefined\") {\n",
       "          window._bokeh_onload_callbacks = [];\n",
       "        }\n",
       "      \n",
       "        function run_callbacks() {\n",
       "          window._bokeh_onload_callbacks.forEach(function(callback) { callback() });\n",
       "          delete window._bokeh_onload_callbacks\n",
       "          console.info(\"Bokeh: all callbacks have finished\");\n",
       "        }\n",
       "      \n",
       "        function load_libs(js_urls, callback) {\n",
       "          window._bokeh_onload_callbacks.push(callback);\n",
       "          if (window._bokeh_is_loading > 0) {\n",
       "            console.log(\"Bokeh: BokehJS is being loaded, scheduling callback at\", now());\n",
       "            return null;\n",
       "          }\n",
       "          if (js_urls == null || js_urls.length === 0) {\n",
       "            run_callbacks();\n",
       "            return null;\n",
       "          }\n",
       "          console.log(\"Bokeh: BokehJS not loaded, scheduling load and callback at\", now());\n",
       "          window._bokeh_is_loading = js_urls.length;\n",
       "          for (var i = 0; i < js_urls.length; i++) {\n",
       "            var url = js_urls[i];\n",
       "            var s = document.createElement('script');\n",
       "            s.src = url;\n",
       "            s.async = false;\n",
       "            s.onreadystatechange = s.onload = function() {\n",
       "              window._bokeh_is_loading--;\n",
       "              if (window._bokeh_is_loading === 0) {\n",
       "                console.log(\"Bokeh: all BokehJS libraries loaded\");\n",
       "                run_callbacks()\n",
       "              }\n",
       "            };\n",
       "            s.onerror = function() {\n",
       "              console.warn(\"failed to load library \" + url);\n",
       "            };\n",
       "            console.log(\"Bokeh: injecting script tag for BokehJS library: \", url);\n",
       "            document.getElementsByTagName(\"head\")[0].appendChild(s);\n",
       "          }\n",
       "        };var js_urls = ['https://cdn.pydata.org/bokeh/release/bokeh-0.11.0.min.js', 'https://cdn.pydata.org/bokeh/release/bokeh-widgets-0.11.0.min.js', 'https://cdn.pydata.org/bokeh/release/bokeh-compiler-0.11.0.min.js'];\n",
       "      \n",
       "        var inline_js = [\n",
       "          function(Bokeh) {\n",
       "            Bokeh.set_log_level(\"info\");\n",
       "          },\n",
       "          function(Bokeh) {\n",
       "            console.log(\"Bokeh: injecting CSS: https://cdn.pydata.org/bokeh/release/bokeh-0.11.0.min.css\");\n",
       "            Bokeh.embed.inject_css(\"https://cdn.pydata.org/bokeh/release/bokeh-0.11.0.min.css\");\n",
       "            console.log(\"Bokeh: injecting CSS: https://cdn.pydata.org/bokeh/release/bokeh-widgets-0.11.0.min.css\");\n",
       "            Bokeh.embed.inject_css(\"https://cdn.pydata.org/bokeh/release/bokeh-widgets-0.11.0.min.css\");\n",
       "          }\n",
       "        ];\n",
       "      \n",
       "        function run_inline_js() {\n",
       "          for (var i = 0; i < inline_js.length; i++) {\n",
       "            inline_js[i](window.Bokeh);\n",
       "          }\n",
       "        }\n",
       "      \n",
       "        if (window._bokeh_is_loading === 0) {\n",
       "          console.log(\"Bokeh: BokehJS loaded, going straight to plotting\");\n",
       "          run_inline_js();\n",
       "        } else {\n",
       "          load_libs(js_urls, function() {\n",
       "            console.log(\"Bokeh: BokehJS plotting callback run at\", now());\n",
       "            run_inline_js();\n",
       "          });\n",
       "        }\n",
       "      }(this));\n",
       "    </script>"
      ]
     },
     "metadata": {},
     "output_type": "display_data"
    },
    {
     "data": {
      "text/html": [
       "\n",
       "\n",
       "    <div class=\"plotdiv\" id=\"90df5d4f-6f8b-44c7-8ddc-25cee6e14d5c\"></div>\n",
       "<script type=\"text/javascript\">\n",
       "  \n",
       "  (function(global) {\n",
       "    function now() {\n",
       "      return new Date();\n",
       "    }\n",
       "  \n",
       "    if (typeof (window._bokeh_onload_callbacks) === \"undefined\") {\n",
       "      window._bokeh_onload_callbacks = [];\n",
       "    }\n",
       "  \n",
       "    function run_callbacks() {\n",
       "      window._bokeh_onload_callbacks.forEach(function(callback) { callback() });\n",
       "      delete window._bokeh_onload_callbacks\n",
       "      console.info(\"Bokeh: all callbacks have finished\");\n",
       "    }\n",
       "  \n",
       "    function load_libs(js_urls, callback) {\n",
       "      window._bokeh_onload_callbacks.push(callback);\n",
       "      if (window._bokeh_is_loading > 0) {\n",
       "        console.log(\"Bokeh: BokehJS is being loaded, scheduling callback at\", now());\n",
       "        return null;\n",
       "      }\n",
       "      if (js_urls == null || js_urls.length === 0) {\n",
       "        run_callbacks();\n",
       "        return null;\n",
       "      }\n",
       "      console.log(\"Bokeh: BokehJS not loaded, scheduling load and callback at\", now());\n",
       "      window._bokeh_is_loading = js_urls.length;\n",
       "      for (var i = 0; i < js_urls.length; i++) {\n",
       "        var url = js_urls[i];\n",
       "        var s = document.createElement('script');\n",
       "        s.src = url;\n",
       "        s.async = false;\n",
       "        s.onreadystatechange = s.onload = function() {\n",
       "          window._bokeh_is_loading--;\n",
       "          if (window._bokeh_is_loading === 0) {\n",
       "            console.log(\"Bokeh: all BokehJS libraries loaded\");\n",
       "            run_callbacks()\n",
       "          }\n",
       "        };\n",
       "        s.onerror = function() {\n",
       "          console.warn(\"failed to load library \" + url);\n",
       "        };\n",
       "        console.log(\"Bokeh: injecting script tag for BokehJS library: \", url);\n",
       "        document.getElementsByTagName(\"head\")[0].appendChild(s);\n",
       "      }\n",
       "    };var element = document.getElementById(\"90df5d4f-6f8b-44c7-8ddc-25cee6e14d5c\");\n",
       "    if (element == null) {\n",
       "      console.log(\"Bokeh: ERROR: autoload.js configured with elementid '90df5d4f-6f8b-44c7-8ddc-25cee6e14d5c' but no matching script tag was found. \")\n",
       "      return false;\n",
       "    }var js_urls = [];\n",
       "  \n",
       "    var inline_js = [\n",
       "      function(Bokeh) {\n",
       "        Bokeh.$(function() {\n",
       "            var docs_json = {\"9a01a1aa-8ee7-4533-8f24-c57037f66be7\": {\"roots\": {\"root_ids\": [\"6bd4f555-9439-42e2-830e-2bac93a25209\", \"f20501b6-677b-4cb6-a08b-f353ea416748\"], \"references\": [{\"id\": \"2d60a490-5b39-44a9-9a2d-323655b62691\", \"attributes\": {}, \"type\": \"BasicTicker\"}, {\"id\": \"391c2435-33e3-4362-a440-e79db2d75a86\", \"attributes\": {\"plot\": {\"subtype\": \"Figure\", \"id\": \"6bd4f555-9439-42e2-830e-2bac93a25209\", \"type\": \"Plot\"}}, \"type\": \"HelpTool\"}, {\"id\": \"3988c9cd-0034-4e67-ba52-2f2622e75aab\", \"attributes\": {\"column_names\": [\"x\", \"y\"], \"data\": {\"x\": [53, 57, 58, 63, 66, 67, 68, 69, 70, 72, 73, 75, 76, 78, 79, 81], \"y\": [11, 4, 4, 2, 0, 0, 0, 0, 4, 0, 0, 4, 0, 0, 0, 0]}, \"callback\": null}, \"type\": \"ColumnDataSource\"}, {\"id\": \"8921bf01-a9cf-488a-a18b-d8e698f4e20f\", \"attributes\": {\"line_color\": {\"value\": \"black\"}, \"line_alpha\": {\"value\": 1.0}, \"left_units\": \"screen\", \"bottom_units\": \"screen\", \"plot\": null, \"line_dash\": [4, 4], \"render_mode\": \"css\", \"level\": \"overlay\", \"line_width\": {\"value\": 2}, \"right_units\": \"screen\", \"top_units\": \"screen\", \"fill_alpha\": {\"value\": 0.5}, \"fill_color\": {\"value\": \"lightgrey\"}}, \"type\": \"BoxAnnotation\"}, {\"id\": \"ef6ca193-6caf-468a-9616-73414da9997f\", \"attributes\": {\"plot\": {\"subtype\": \"Figure\", \"id\": \"f20501b6-677b-4cb6-a08b-f353ea416748\", \"type\": \"Plot\"}}, \"type\": \"HelpTool\"}, {\"id\": \"8b199a5b-807d-4c19-a7b5-e1ab8cb633ab\", \"attributes\": {\"plot\": {\"subtype\": \"Figure\", \"id\": \"f20501b6-677b-4cb6-a08b-f353ea416748\", \"type\": \"Plot\"}}, \"type\": \"ResetTool\"}, {\"id\": \"6c826f6c-2738-4b15-8b98-18fc2ea4b62c\", \"attributes\": {\"callback\": null}, \"type\": \"DataRange1d\"}, {\"id\": \"328bd62c-254b-4eda-beb3-602cbc5454f5\", \"attributes\": {\"plot\": {\"subtype\": \"Figure\", \"id\": \"6bd4f555-9439-42e2-830e-2bac93a25209\", \"type\": \"Plot\"}}, \"type\": \"PreviewSaveTool\"}, {\"id\": \"88947e2f-87b2-45cb-97e6-94d502e6c3b7\", \"attributes\": {\"plot\": {\"subtype\": \"Figure\", \"id\": \"f20501b6-677b-4cb6-a08b-f353ea416748\", \"type\": \"Plot\"}}, \"type\": \"PreviewSaveTool\"}, {\"id\": \"22dd3dde-04b8-44ad-9dcc-2d2a0f3bc48d\", \"attributes\": {\"callback\": null}, \"type\": \"DataRange1d\"}, {\"id\": \"8abcd781-54cd-4def-8127-0c7266238577\", \"attributes\": {}, \"type\": \"BasicTickFormatter\"}, {\"id\": \"3949744f-9623-4b19-b06b-9b79abd7b813\", \"attributes\": {\"selection_glyph\": null, \"glyph\": {\"id\": \"75a2eba9-75bb-4b9c-922f-2a57bea3f613\", \"type\": \"Circle\"}, \"hover_glyph\": null, \"data_source\": {\"id\": \"0f3d269b-4aeb-4efd-b47e-c3128166a098\", \"type\": \"ColumnDataSource\"}, \"nonselection_glyph\": {\"id\": \"470339d6-678d-4c50-9cf2-4698af4ec40b\", \"type\": \"Circle\"}}, \"type\": \"GlyphRenderer\"}, {\"id\": \"24d84e9a-53e0-424b-bdd0-80cab817004a\", \"attributes\": {\"x\": {\"field\": \"x\"}, \"fill_color\": {\"value\": \"#1f77b4\"}, \"y\": {\"field\": \"y\"}, \"fill_alpha\": {\"value\": 0.1}, \"line_color\": {\"value\": \"#1f77b4\"}, \"line_alpha\": {\"value\": 0.1}}, \"type\": \"Circle\"}, {\"subtype\": \"Figure\", \"id\": \"f20501b6-677b-4cb6-a08b-f353ea416748\", \"attributes\": {\"y_range\": {\"id\": \"22dd3dde-04b8-44ad-9dcc-2d2a0f3bc48d\", \"type\": \"DataRange1d\"}, \"plot_width\": 960, \"below\": [{\"id\": \"4b574f61-9299-41f1-a88c-fcf49b3097c7\", \"type\": \"LinearAxis\"}], \"tool_events\": {\"id\": \"269a07da-35e0-403b-a05d-222b565100a5\", \"type\": \"ToolEvents\"}, \"left\": [{\"id\": \"be17f58b-164e-4b6a-bf17-81cbe348253a\", \"type\": \"LinearAxis\"}], \"renderers\": [{\"id\": \"4b574f61-9299-41f1-a88c-fcf49b3097c7\", \"type\": \"LinearAxis\"}, {\"id\": \"b851b437-8dbf-4774-b1a4-dbfec59b5a96\", \"type\": \"Grid\"}, {\"id\": \"be17f58b-164e-4b6a-bf17-81cbe348253a\", \"type\": \"LinearAxis\"}, {\"id\": \"6174ac7e-01be-4b5d-a7e3-8a97f70db45f\", \"type\": \"Grid\"}, {\"id\": \"52da3f6f-d006-492a-8fc2-adf83462693c\", \"type\": \"BoxAnnotation\"}, {\"id\": \"3f3f4aa3-10cd-46bf-bcd1-31ea8f93b646\", \"type\": \"GlyphRenderer\"}], \"tools\": [{\"id\": \"9d42c64f-bc7e-4ca3-a074-631f4059c5a4\", \"type\": \"PanTool\"}, {\"id\": \"a0e28e86-6628-4c82-ae16-11dc074cf06d\", \"type\": \"WheelZoomTool\"}, {\"id\": \"d43d88f7-14d9-426e-bee9-5b41a958bf4d\", \"type\": \"BoxZoomTool\"}, {\"id\": \"88947e2f-87b2-45cb-97e6-94d502e6c3b7\", \"type\": \"PreviewSaveTool\"}, {\"id\": \"bcb545f7-8f3a-4d78-864f-64256d7e188a\", \"type\": \"ResizeTool\"}, {\"id\": \"8b199a5b-807d-4c19-a7b5-e1ab8cb633ab\", \"type\": \"ResetTool\"}, {\"id\": \"ef6ca193-6caf-468a-9616-73414da9997f\", \"type\": \"HelpTool\"}], \"x_range\": {\"id\": \"c02159b6-4fa4-476a-818c-a7a858f916c0\", \"type\": \"DataRange1d\"}, \"plot_height\": 400}, \"type\": \"Plot\"}, {\"id\": \"a1b63621-4f44-486a-aef2-423cfca54b7c\", \"attributes\": {}, \"type\": \"BasicTickFormatter\"}, {\"id\": \"d43d88f7-14d9-426e-bee9-5b41a958bf4d\", \"attributes\": {\"overlay\": {\"id\": \"52da3f6f-d006-492a-8fc2-adf83462693c\", \"type\": \"BoxAnnotation\"}, \"plot\": {\"subtype\": \"Figure\", \"id\": \"f20501b6-677b-4cb6-a08b-f353ea416748\", \"type\": \"Plot\"}}, \"type\": \"BoxZoomTool\"}, {\"id\": \"a0e28e86-6628-4c82-ae16-11dc074cf06d\", \"attributes\": {\"plot\": {\"subtype\": \"Figure\", \"id\": \"f20501b6-677b-4cb6-a08b-f353ea416748\", \"type\": \"Plot\"}}, \"type\": \"WheelZoomTool\"}, {\"id\": \"3abea95c-1423-45b1-b283-d56daeb3d8eb\", \"attributes\": {}, \"type\": \"BasicTicker\"}, {\"id\": \"3f3f4aa3-10cd-46bf-bcd1-31ea8f93b646\", \"attributes\": {\"selection_glyph\": null, \"glyph\": {\"id\": \"807d0694-c349-4c58-92c9-0a81639c2083\", \"type\": \"Circle\"}, \"hover_glyph\": null, \"data_source\": {\"id\": \"3988c9cd-0034-4e67-ba52-2f2622e75aab\", \"type\": \"ColumnDataSource\"}, \"nonselection_glyph\": {\"id\": \"24d84e9a-53e0-424b-bdd0-80cab817004a\", \"type\": \"Circle\"}}, \"type\": \"GlyphRenderer\"}, {\"id\": \"411912a9-6623-4b10-8aff-dd4de138ebcb\", \"attributes\": {}, \"type\": \"BasicTicker\"}, {\"id\": \"0f3d269b-4aeb-4efd-b47e-c3128166a098\", \"attributes\": {\"column_names\": [\"x\", \"y\"], \"data\": {\"x\": [53, 57, 58, 63, 66, 67, 68, 69, 70, 72, 73, 75, 76, 78, 79, 81], \"y\": [11, 4, 4, 2, 0, 0, 0, 0, 4, 0, 0, 4, 0, 0, 0, 0]}, \"callback\": null}, \"type\": \"ColumnDataSource\"}, {\"id\": \"5deff191-a758-4161-ba81-e8bb1f79515e\", \"attributes\": {\"plot\": {\"subtype\": \"Figure\", \"id\": \"6bd4f555-9439-42e2-830e-2bac93a25209\", \"type\": \"Plot\"}}, \"type\": \"ResetTool\"}, {\"id\": \"470339d6-678d-4c50-9cf2-4698af4ec40b\", \"attributes\": {\"x\": {\"field\": \"x\"}, \"fill_color\": {\"value\": \"#1f77b4\"}, \"y\": {\"field\": \"y\"}, \"fill_alpha\": {\"value\": 0.1}, \"line_color\": {\"value\": \"#1f77b4\"}, \"line_alpha\": {\"value\": 0.1}}, \"type\": \"Circle\"}, {\"id\": \"4b574f61-9299-41f1-a88c-fcf49b3097c7\", \"attributes\": {\"plot\": {\"subtype\": \"Figure\", \"id\": \"f20501b6-677b-4cb6-a08b-f353ea416748\", \"type\": \"Plot\"}, \"ticker\": {\"id\": \"411912a9-6623-4b10-8aff-dd4de138ebcb\", \"type\": \"BasicTicker\"}, \"formatter\": {\"id\": \"513b41a3-cde1-4c3c-9936-28d0723e19ee\", \"type\": \"BasicTickFormatter\"}}, \"type\": \"LinearAxis\"}, {\"id\": \"7408b897-e54d-4542-b60b-29d2897b1ba8\", \"attributes\": {}, \"type\": \"BasicTicker\"}, {\"id\": \"6174ac7e-01be-4b5d-a7e3-8a97f70db45f\", \"attributes\": {\"dimension\": 1, \"ticker\": {\"id\": \"2d60a490-5b39-44a9-9a2d-323655b62691\", \"type\": \"BasicTicker\"}, \"plot\": {\"subtype\": \"Figure\", \"id\": \"f20501b6-677b-4cb6-a08b-f353ea416748\", \"type\": \"Plot\"}}, \"type\": \"Grid\"}, {\"id\": \"b1a01f78-cb07-4264-8e5e-0fb74aaa6d49\", \"attributes\": {}, \"type\": \"ToolEvents\"}, {\"id\": \"330f29f0-3e91-40bb-af76-d949a667356d\", \"attributes\": {\"callback\": null}, \"type\": \"DataRange1d\"}, {\"id\": \"55f5b1d6-d600-4d65-ab44-0f1f49c10554\", \"attributes\": {\"plot\": {\"subtype\": \"Figure\", \"id\": \"6bd4f555-9439-42e2-830e-2bac93a25209\", \"type\": \"Plot\"}, \"ticker\": {\"id\": \"7408b897-e54d-4542-b60b-29d2897b1ba8\", \"type\": \"BasicTicker\"}, \"formatter\": {\"id\": \"8abcd781-54cd-4def-8127-0c7266238577\", \"type\": \"BasicTickFormatter\"}}, \"type\": \"LinearAxis\"}, {\"id\": \"75a2eba9-75bb-4b9c-922f-2a57bea3f613\", \"attributes\": {\"x\": {\"field\": \"x\"}, \"line_color\": {\"value\": \"#1f77b4\"}, \"fill_color\": {\"value\": \"#1f77b4\"}, \"y\": {\"field\": \"y\"}}, \"type\": \"Circle\"}, {\"id\": \"036fb9ec-d898-4abf-b82b-373ff1e50856\", \"attributes\": {\"overlay\": {\"id\": \"8921bf01-a9cf-488a-a18b-d8e698f4e20f\", \"type\": \"BoxAnnotation\"}, \"plot\": {\"subtype\": \"Figure\", \"id\": \"6bd4f555-9439-42e2-830e-2bac93a25209\", \"type\": \"Plot\"}}, \"type\": \"BoxZoomTool\"}, {\"id\": \"44ba9651-ff55-42b1-8f0f-115b2b4ff885\", \"attributes\": {\"ticker\": {\"id\": \"3abea95c-1423-45b1-b283-d56daeb3d8eb\", \"type\": \"BasicTicker\"}, \"plot\": {\"subtype\": \"Figure\", \"id\": \"6bd4f555-9439-42e2-830e-2bac93a25209\", \"type\": \"Plot\"}}, \"type\": \"Grid\"}, {\"id\": \"52da3f6f-d006-492a-8fc2-adf83462693c\", \"attributes\": {\"line_color\": {\"value\": \"black\"}, \"line_alpha\": {\"value\": 1.0}, \"left_units\": \"screen\", \"bottom_units\": \"screen\", \"plot\": null, \"line_dash\": [4, 4], \"render_mode\": \"css\", \"level\": \"overlay\", \"line_width\": {\"value\": 2}, \"right_units\": \"screen\", \"top_units\": \"screen\", \"fill_alpha\": {\"value\": 0.5}, \"fill_color\": {\"value\": \"lightgrey\"}}, \"type\": \"BoxAnnotation\"}, {\"id\": \"0d1496d6-d119-4b49-9a8d-f0837a42c701\", \"attributes\": {\"plot\": {\"subtype\": \"Figure\", \"id\": \"6bd4f555-9439-42e2-830e-2bac93a25209\", \"type\": \"Plot\"}}, \"type\": \"WheelZoomTool\"}, {\"id\": \"4856e85c-7d1d-425b-85d5-8156eaa7b8a3\", \"attributes\": {\"plot\": {\"subtype\": \"Figure\", \"id\": \"6bd4f555-9439-42e2-830e-2bac93a25209\", \"type\": \"Plot\"}}, \"type\": \"ResizeTool\"}, {\"id\": \"02f74b0d-9639-48f4-b249-5f88fcc8eb92\", \"attributes\": {\"dimension\": 1, \"ticker\": {\"id\": \"7408b897-e54d-4542-b60b-29d2897b1ba8\", \"type\": \"BasicTicker\"}, \"plot\": {\"subtype\": \"Figure\", \"id\": \"6bd4f555-9439-42e2-830e-2bac93a25209\", \"type\": \"Plot\"}}, \"type\": \"Grid\"}, {\"id\": \"dbcc0ffe-27d6-42be-98eb-fd6b3d465e9f\", \"attributes\": {\"plot\": {\"subtype\": \"Figure\", \"id\": \"6bd4f555-9439-42e2-830e-2bac93a25209\", \"type\": \"Plot\"}, \"ticker\": {\"id\": \"3abea95c-1423-45b1-b283-d56daeb3d8eb\", \"type\": \"BasicTicker\"}, \"formatter\": {\"id\": \"e0871db0-1884-4bfa-b495-e5964745980a\", \"type\": \"BasicTickFormatter\"}}, \"type\": \"LinearAxis\"}, {\"id\": \"be17f58b-164e-4b6a-bf17-81cbe348253a\", \"attributes\": {\"plot\": {\"subtype\": \"Figure\", \"id\": \"f20501b6-677b-4cb6-a08b-f353ea416748\", \"type\": \"Plot\"}, \"ticker\": {\"id\": \"2d60a490-5b39-44a9-9a2d-323655b62691\", \"type\": \"BasicTicker\"}, \"formatter\": {\"id\": \"a1b63621-4f44-486a-aef2-423cfca54b7c\", \"type\": \"BasicTickFormatter\"}}, \"type\": \"LinearAxis\"}, {\"id\": \"c02159b6-4fa4-476a-818c-a7a858f916c0\", \"attributes\": {\"callback\": null}, \"type\": \"DataRange1d\"}, {\"id\": \"bcb545f7-8f3a-4d78-864f-64256d7e188a\", \"attributes\": {\"plot\": {\"subtype\": \"Figure\", \"id\": \"f20501b6-677b-4cb6-a08b-f353ea416748\", \"type\": \"Plot\"}}, \"type\": \"ResizeTool\"}, {\"id\": \"9d42c64f-bc7e-4ca3-a074-631f4059c5a4\", \"attributes\": {\"plot\": {\"subtype\": \"Figure\", \"id\": \"f20501b6-677b-4cb6-a08b-f353ea416748\", \"type\": \"Plot\"}}, \"type\": \"PanTool\"}, {\"id\": \"807d0694-c349-4c58-92c9-0a81639c2083\", \"attributes\": {\"x\": {\"field\": \"x\"}, \"line_color\": {\"value\": \"#1f77b4\"}, \"fill_color\": {\"value\": \"#1f77b4\"}, \"y\": {\"field\": \"y\"}}, \"type\": \"Circle\"}, {\"id\": \"0ca15395-5a7c-48e2-927f-ceb5df6d0432\", \"attributes\": {\"plot\": {\"subtype\": \"Figure\", \"id\": \"6bd4f555-9439-42e2-830e-2bac93a25209\", \"type\": \"Plot\"}}, \"type\": \"PanTool\"}, {\"id\": \"b851b437-8dbf-4774-b1a4-dbfec59b5a96\", \"attributes\": {\"ticker\": {\"id\": \"411912a9-6623-4b10-8aff-dd4de138ebcb\", \"type\": \"BasicTicker\"}, \"plot\": {\"subtype\": \"Figure\", \"id\": \"f20501b6-677b-4cb6-a08b-f353ea416748\", \"type\": \"Plot\"}}, \"type\": \"Grid\"}, {\"id\": \"513b41a3-cde1-4c3c-9936-28d0723e19ee\", \"attributes\": {}, \"type\": \"BasicTickFormatter\"}, {\"id\": \"e0871db0-1884-4bfa-b495-e5964745980a\", \"attributes\": {}, \"type\": \"BasicTickFormatter\"}, {\"subtype\": \"Figure\", \"id\": \"6bd4f555-9439-42e2-830e-2bac93a25209\", \"attributes\": {\"y_range\": {\"id\": \"330f29f0-3e91-40bb-af76-d949a667356d\", \"type\": \"DataRange1d\"}, \"plot_width\": 960, \"below\": [{\"id\": \"dbcc0ffe-27d6-42be-98eb-fd6b3d465e9f\", \"type\": \"LinearAxis\"}], \"tool_events\": {\"id\": \"b1a01f78-cb07-4264-8e5e-0fb74aaa6d49\", \"type\": \"ToolEvents\"}, \"left\": [{\"id\": \"55f5b1d6-d600-4d65-ab44-0f1f49c10554\", \"type\": \"LinearAxis\"}], \"renderers\": [{\"id\": \"dbcc0ffe-27d6-42be-98eb-fd6b3d465e9f\", \"type\": \"LinearAxis\"}, {\"id\": \"44ba9651-ff55-42b1-8f0f-115b2b4ff885\", \"type\": \"Grid\"}, {\"id\": \"55f5b1d6-d600-4d65-ab44-0f1f49c10554\", \"type\": \"LinearAxis\"}, {\"id\": \"02f74b0d-9639-48f4-b249-5f88fcc8eb92\", \"type\": \"Grid\"}, {\"id\": \"8921bf01-a9cf-488a-a18b-d8e698f4e20f\", \"type\": \"BoxAnnotation\"}, {\"id\": \"3949744f-9623-4b19-b06b-9b79abd7b813\", \"type\": \"GlyphRenderer\"}], \"tools\": [{\"id\": \"0ca15395-5a7c-48e2-927f-ceb5df6d0432\", \"type\": \"PanTool\"}, {\"id\": \"0d1496d6-d119-4b49-9a8d-f0837a42c701\", \"type\": \"WheelZoomTool\"}, {\"id\": \"036fb9ec-d898-4abf-b82b-373ff1e50856\", \"type\": \"BoxZoomTool\"}, {\"id\": \"328bd62c-254b-4eda-beb3-602cbc5454f5\", \"type\": \"PreviewSaveTool\"}, {\"id\": \"4856e85c-7d1d-425b-85d5-8156eaa7b8a3\", \"type\": \"ResizeTool\"}, {\"id\": \"5deff191-a758-4161-ba81-e8bb1f79515e\", \"type\": \"ResetTool\"}, {\"id\": \"391c2435-33e3-4362-a440-e79db2d75a86\", \"type\": \"HelpTool\"}], \"x_range\": {\"id\": \"6c826f6c-2738-4b15-8b98-18fc2ea4b62c\", \"type\": \"DataRange1d\"}, \"plot_height\": 400}, \"type\": \"Plot\"}, {\"id\": \"269a07da-35e0-403b-a05d-222b565100a5\", \"attributes\": {}, \"type\": \"ToolEvents\"}]}, \"version\": \"0.11.0\", \"title\": \"Bokeh Application\"}};\n",
       "            var render_items = [{\"elementid\": \"90df5d4f-6f8b-44c7-8ddc-25cee6e14d5c\", \"notebook_comms_target\": \"dcc33975-5069-4103-8a73-4cae98f58272\", \"docid\": \"9a01a1aa-8ee7-4533-8f24-c57037f66be7\", \"modelid\": \"f20501b6-677b-4cb6-a08b-f353ea416748\"}];\n",
       "            \n",
       "            Bokeh.embed.embed_items(docs_json, render_items);\n",
       "        });\n",
       "      },\n",
       "      function(Bokeh) {\n",
       "      }\n",
       "    ];\n",
       "  \n",
       "    function run_inline_js() {\n",
       "      for (var i = 0; i < inline_js.length; i++) {\n",
       "        inline_js[i](window.Bokeh);\n",
       "      }\n",
       "    }\n",
       "  \n",
       "    if (window._bokeh_is_loading === 0) {\n",
       "      console.log(\"Bokeh: BokehJS loaded, going straight to plotting\");\n",
       "      run_inline_js();\n",
       "    } else {\n",
       "      load_libs(js_urls, function() {\n",
       "        console.log(\"Bokeh: BokehJS plotting callback run at\", now());\n",
       "        run_inline_js();\n",
       "      });\n",
       "    }\n",
       "  }(this));\n",
       "</script>"
      ]
     },
     "metadata": {},
     "output_type": "display_data"
    },
    {
     "data": {
      "text/plain": [
       "<bokeh.io._CommsHandle at 0x5b880f0>"
      ]
     },
     "execution_count": 7,
     "metadata": {},
     "output_type": "execute_result"
    }
   ],
   "source": [
    "output_notebook(hide_banner=True)\n",
    "\n",
    "p = figure(height=400, width=960)\n",
    "\n",
    "# add a line renderer\n",
    "p.scatter(\n",
    "    list(dat.index),\n",
    "    list(dat.values)\n",
    ")\n",
    "\n",
    "show(p)"
   ]
  }
 ],
 "metadata": {
  "kernelspec": {
   "display_name": "Python 3",
   "language": "python",
   "name": "python3"
  },
  "language_info": {
   "codemirror_mode": {
    "name": "ipython",
    "version": 3
   },
   "file_extension": ".py",
   "mimetype": "text/x-python",
   "name": "python",
   "nbconvert_exporter": "python",
   "pygments_lexer": "ipython3",
   "version": "3.4.4"
  }
 },
 "nbformat": 4,
 "nbformat_minor": 0
}

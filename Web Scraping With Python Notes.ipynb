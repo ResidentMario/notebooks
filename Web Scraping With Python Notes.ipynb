{
 "cells": [
  {
   "cell_type": "markdown",
   "metadata": {},
   "source": [
    "## BeautifulSoup4\n",
    "\n",
    "* Best way to encode elements: `.findAll(\"span\", {\"class\":\"green\", \"class\":\"red\"})`.\n",
    "* `find()` is `findAll()` once.\n",
    "* `nameList = bsObj.findAll(text=\"the prince\")` to get text.\n",
    "* `.children` are tags immediately below the current one, while `.descendents` goes down the family tree.\n",
    "* `next_siblings()` iterates through the sibling tags.\n",
    "* `get_text()` strips all tags. Awesome. Should be last step though!\n",
    "* `.parent` goes to the parent tag!\n",
    "* `re` can bang pots with `bs4`, e.g. `images = bsObj.findAll(\"img\", {\"src\":re.compile(\"\\.\\.\\/img\\/gifts/img.*\\.jpg\")})`\n",
    "* `find` and `findAll` accept boolean lambda expressions. "
   ]
  },
  {
   "cell_type": "markdown",
   "metadata": {},
   "source": [
    "## Scrapy\n",
    "\n",
    "It's very interesting seeing how a web scraper toolkit is built and applied, but I've held off on using it for now because I don't have an immediate need for heavy-duty web scrapers.\n",
    "\n",
    "That being said, I ought to eventually rewrite the Baruch webscraper using Scrapy and Regex."
   ]
  },
  {
   "cell_type": "markdown",
   "metadata": {},
   "source": [
    "## Regex\n",
    "\n",
    "About time I learned regex..."
   ]
  },
  {
   "cell_type": "code",
   "execution_count": 1,
   "metadata": {
    "collapsed": true
   },
   "outputs": [],
   "source": [
    "import requests\n",
    "import re"
   ]
  },
  {
   "cell_type": "code",
   "execution_count": 2,
   "metadata": {
    "collapsed": true
   },
   "outputs": [],
   "source": [
    "dat = requests.get('http://en.wikipedia.org/wiki/Wikipedia').text"
   ]
  },
  {
   "cell_type": "markdown",
   "metadata": {},
   "source": [
    "* The `re` module handles all of this.\n",
    "* `[a]` means match something starting with the letter `a`.\n",
    "* `[a-z]` means match something starting with a lowercase letter.\n",
    "* `[abc]` will match *any* of `a`, `b`, or `c`.\n",
    "* `[^a]` means \"not `a`\".\n",
    "* `[\\s]` matches and whitespace character, `[\\S]` matches any non-whitespace character.\n",
    "* `[.]` matches anything that isn't a newline.\n",
    "* `*` after a character asks to match 0 or more times.\n",
    "* `+` after a character asks to match 1 or more times.\n",
    "* `?` after a character marks it as optional, matching 1 or 0 times.\n",
    "* For the most general of cases, `{a,b}` will match at least `a` times and up to `b` times.\n",
    "* In order to avoid weird issues with `\\\\` reservation, use raw strings e.g. `r\"ab\"`.\n",
    "* To get a result use *either* `re.compile('[a-z]+').search('apple')` *or* `re.search('[a-z]+', 'apple')`."
   ]
  },
  {
   "cell_type": "code",
   "execution_count": 12,
   "metadata": {
    "collapsed": false,
    "scrolled": true
   },
   "outputs": [
    {
     "data": {
      "text/plain": [
       "'apple'"
      ]
     },
     "execution_count": 12,
     "metadata": {},
     "output_type": "execute_result"
    }
   ],
   "source": [
    "re.compile('[a-z]+').search('apple').group()"
   ]
  },
  {
   "cell_type": "code",
   "execution_count": 13,
   "metadata": {
    "collapsed": false
   },
   "outputs": [
    {
     "data": {
      "text/plain": [
       "'apple'"
      ]
     },
     "execution_count": 13,
     "metadata": {},
     "output_type": "execute_result"
    }
   ],
   "source": [
    "re.search('[a-z]+', 'apple').group()"
   ]
  },
  {
   "cell_type": "markdown",
   "metadata": {},
   "source": [
    "* Other methods: `group()` (returns the entire string itself), `start()`, `end()`, and `span()`.\n",
    "* If no match is found instead of a `match` object you will get a `None`.\n",
    "* `findall()` and `finditer()` return lists of matches.\n",
    "* `|` is a zero-width or logical operator.\n",
    "* The most useful of the flags: adding a `MULTILINE` argument enables reading the string in multiline mode. This makes `^` (which matches the beginning of a line) and `$` (which matches the end) useful.\n",
    "* `\\b` matches a word boundary. `\\B` does the opposite!\n",
    "* Groupings are made via e.g. `(ab)`. If these a present, then `group()` will return multiple values: `group(0)` will be the entire string, `group(1)` will be a match for the first group, and so on. Groups can be nested; in that case left-right order (in terms of where to look for the group in `group()`) is maintained.\n",
    "* `groups()`, obviously, fetches all of the groups all at once."
   ]
  },
  {
   "cell_type": "markdown",
   "metadata": {},
   "source": [
    "* There is more but this is enough for the moment."
   ]
  },
  {
   "cell_type": "code",
   "execution_count": null,
   "metadata": {
    "collapsed": true
   },
   "outputs": [],
   "source": []
  }
 ],
 "metadata": {
  "kernelspec": {
   "display_name": "Python 3",
   "language": "python",
   "name": "python3"
  },
  "language_info": {
   "codemirror_mode": {
    "name": "ipython",
    "version": 3
   },
   "file_extension": ".py",
   "mimetype": "text/x-python",
   "name": "python",
   "nbconvert_exporter": "python",
   "pygments_lexer": "ipython3",
   "version": "3.5.1"
  }
 },
 "nbformat": 4,
 "nbformat_minor": 0
}

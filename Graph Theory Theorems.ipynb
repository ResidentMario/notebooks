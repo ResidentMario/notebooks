{
 "cells": [
  {
   "cell_type": "markdown",
   "metadata": {},
   "source": [
    "1. If two vertices in a Petersen graph are non-adjacent, they have exactly one common neighbor.\n",
    "2. The Petersen graph has girth 5.\n",
    "3. Every graph on six vertices contains either $K_3$ or $\\bar{K}_3$.\n",
    "4. Every u,v-walk contains a u,v-path.\n",
    "5. Every closed odd walk contains an odd cycle.\n",
    "6. Every edge in the Petersen graph belongs to exactly four 5-cycles.\n",
    "7. Every two non-adjacent vertices in the Petersen graph have exactly one common neighbor.\n",
    "8. A graph is Eulerian iff it has a closed trial containing all edges. Equivalently, iff it has only one component and its vertices all have even degree.\n",
    "9. If every vertex of G has a degree of at least 2, then G contains a cycle.\n",
    "10. Every graph on n verticles with at least n edges contains a cycle.\n",
    "11. An edge is a cut edge iff it belongs to no cycle.\n",
    "12. A graph is bipartite iff it has no odd cycles.\n",
    "13. An edge is a cut edge iff it belongs to no cycle.\n",
    "14. If G is a connected graph on n verticles, then $|E(G)| \\geq n - 1$\n",
    "15. Handshaking lemma: $\\sum_{v\\in V(G)}deg(v) = 2\\cdot |E(G)|$\n",
    "16. Every even graph decomposes into cycles.\n",
    "17. A simple graph with n verticles with minimal degree $\\delta(G) \\geq (n-1)/2$ is connected.\n",
    "18. Every tree with at least two vertices has at least two leaves.\n",
    "19. Deleting a leaft from a tree with n vertices creates a tree with n - 1 vertices.\n",
    "20. Given a graph G on n verticles, the following are equivalent:\n",
    "  1. G is a connected tree.\n",
    "  2. G is connected and has n - 1 edges.\n",
    "  3. G is acyclic and has n - 1 edges.\n",
    "  4. For every u,v pair there is exactly one u,v path.\n",
    "21. The number of trees on n labelled vertices is $n^{n-2}$ for $n \\geq 2$.\n",
    "22. Matrix-tree theorem: suppose a loopless graph G with vertices ${v_1, \\ldots, v_n}$. Let $a_{ij}$ be the matrix whose $(ij)$ entry is $-a_{ij}$ when $i \\neq j$ and $deg(v_i)$ when $i=j$. "
   ]
  }
 ],
 "metadata": {
  "kernelspec": {
   "display_name": "Python 3",
   "language": "python",
   "name": "python3"
  },
  "language_info": {
   "codemirror_mode": {
    "name": "ipython",
    "version": 3
   },
   "file_extension": ".py",
   "mimetype": "text/x-python",
   "name": "python",
   "nbconvert_exporter": "python",
   "pygments_lexer": "ipython3",
   "version": "3.5.1"
  }
 },
 "nbformat": 4,
 "nbformat_minor": 0
}

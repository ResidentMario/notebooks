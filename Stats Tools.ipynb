{
 "cells": [
  {
   "cell_type": "markdown",
   "metadata": {},
   "source": [
    "## Core Statistical Techniques"
   ]
  },
  {
   "cell_type": "markdown",
   "metadata": {},
   "source": [
    "The following monolithic source is the set of all core statistical techniques covered in Devore. A thorough, complete understanding of all of these techniques, in terms of applications, understanding of limitations, reprovability, etc., is a rigorous background for a classical statistician---effectively a BS in statistics.\n",
    "\n",
    "My interest, however, is in data science, not classical statistics *per se*. The techniques of data science are far too broad for it to be useful for me to constrain myself only to the techniques listed below. But I think it *is* necessary, at this juncture, to have a survey understanding of these techniques and their applications. I leave rigorous full-spectrum understanding to a generalized confidence in my mathematical maturity, that is, my ability to grasp and reprove the mechanics of the tests and techniques below given a *strong need* to do so."
   ]
  },
  {
   "cell_type": "markdown",
   "metadata": {},
   "source": [
    "* Tools\n",
    " * blox plot\n",
    " * mean, median, range, IQR, trimmed mean\n",
    " * scatter plot\n",
    " * Q-Q plot\n",
    " * correlation\n",
    " * kurtosis, skew\n",
    " * z-test confidence interval (known normal distribution, known variance; unknown distribution, large sample)\n",
    " * large-sample population proportion confidence interval\n",
    " * large-sample statistic confidence interval\n",
    " * t-test confidence interval (known normal distribution, unknown variance, small sample)\n",
    " * chi-squared confidence interval for variance (known normal distribution; unknown distribution, large sample)\n",
    " * z-test hypothesis test (known normal distribution; unknown distribution, large sample)\n",
    " * large-sample population proportion hypothesis test\n",
    " * large-sample statistic hypothesis test\n",
    " * z-test confidence interval for the difference between two population means (independent populations, known normal distributions, known variance; independent populations, large samples)\n",
    " * z-test confidence interval for the difference between two means hypothesis test (independent populations, known normal distributions, known variance; independent populations, large samples)\n",
    " * pooled estimator t-test for the confidence interval for the difference between two means (independent populations, known normal distribution, same variance, small sample)\n",
    " * pooled estimator t-test for the confidence interval for the difference between two means hypothesis test (independent populations, known normal distribution, same variance, small sample)\n",
    " * paired difference t-test confidence interval (independent populations, paired data, normal difference)\n",
    " * paired difference t-test hypothesis test (independent populations, paired data, normal difference)\n",
    " * variance of paired data difference\n",
    " * tradeoff between independent-samples and paired (blocked) covariable analysis\n",
    " * z-test difference between population parameters confidence interval (independent distributions, binomial, large samples)\n",
    " * z-test difference between population parameters hypothesis test (independent distributions, binomial, large samples)\n",
    " * f distribution difference between population variances hypothesis test (independent distributions, normal distributions, known variance; independent distributions, unknown variance, large samples)\n",
    " * f distribution population variance ratio confidence interval (independent distributions, normal distributions, known variance; independent distributions, unknown variance, large samples)\n",
    " * least squares linear regression (approximately bivariate normal data)\n",
    "   * residual variance (pg. 465)\n",
    "   * coefficient of determination\n",
    "   * confidence interval for the slope parameter\n",
    "   * hypothesis test for the slope parameter\n",
    "   * confidence interval for the linearized mean\n",
    "   * hypothesis test for the linearized mean\n",
    "   * confidence interval for predicted future observations\n",
    "   * sample correlation coefficient (pg. 489-490)\n",
    "   * hypothesis test for sample correlation coefficient\n",
    "   * confidence interval for sample correlation coefficient\n",
    " * ANOVA\n",
    "   * single-factor ANOVA hypothesis testing\n",
    "   * Tukey's procedure\n",
    "   * single-factor ANOVA hypothesis testing given uneven samples\n",
    "   * single-factor random level hypothesis testing\n",
    " * standardized residual plots (used in regression)\n",
    " * polynomial regression (all the same subcomponents as linears above)\n",
    " * multiple regression"
   ]
  },
  {
   "cell_type": "code",
   "execution_count": null,
   "metadata": {
    "collapsed": true
   },
   "outputs": [],
   "source": []
  }
 ],
 "metadata": {
  "kernelspec": {
   "display_name": "Python 3",
   "language": "python",
   "name": "python3"
  },
  "language_info": {
   "codemirror_mode": {
    "name": "ipython",
    "version": 3
   },
   "file_extension": ".py",
   "mimetype": "text/x-python",
   "name": "python",
   "nbconvert_exporter": "python",
   "pygments_lexer": "ipython3",
   "version": "3.4.4"
  }
 },
 "nbformat": 4,
 "nbformat_minor": 0
}
